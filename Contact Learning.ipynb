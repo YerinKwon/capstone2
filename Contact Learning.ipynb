{
 "cells": [
  {
   "cell_type": "code",
   "execution_count": 83,
   "metadata": {},
   "outputs": [],
   "source": [
    "import pandas as pd\n",
    "import queue\n",
    "import pickle\n",
    "import preprocessing as pr"
   ]
  },
  {
   "cell_type": "code",
   "execution_count": 86,
   "metadata": {},
   "outputs": [],
   "source": [
    "df = pd.read_csv(\"trace_by_date/2014_01_01.csv\")"
   ]
  },
  {
   "cell_type": "code",
   "execution_count": 88,
   "metadata": {},
   "outputs": [],
   "source": [
    "pr.to_sec(df)\n",
    "pr.to_ID(df)"
   ]
  },
  {
   "cell_type": "code",
   "execution_count": 89,
   "metadata": {},
   "outputs": [
    {
     "data": {
      "text/html": [
       "<div>\n",
       "<style scoped>\n",
       "    .dataframe tbody tr th:only-of-type {\n",
       "        vertical-align: middle;\n",
       "    }\n",
       "\n",
       "    .dataframe tbody tr th {\n",
       "        vertical-align: top;\n",
       "    }\n",
       "\n",
       "    .dataframe thead th {\n",
       "        text-align: right;\n",
       "    }\n",
       "</style>\n",
       "<table border=\"1\" class=\"dataframe\">\n",
       "  <thead>\n",
       "    <tr style=\"text-align: right;\">\n",
       "      <th></th>\n",
       "      <th>Unnamed: 0</th>\n",
       "      <th>timestamp</th>\n",
       "      <th>client</th>\n",
       "      <th>AP</th>\n",
       "      <th>sec</th>\n",
       "      <th>ID</th>\n",
       "    </tr>\n",
       "  </thead>\n",
       "  <tbody>\n",
       "    <tr>\n",
       "      <th>0</th>\n",
       "      <td>0</td>\n",
       "      <td>2014-01-01 00:00:24</td>\n",
       "      <td>b7f22f3abd9f367af65bd70b4b328e0c35f7cfac</td>\n",
       "      <td>Bldg11AP21</td>\n",
       "      <td>24</td>\n",
       "      <td>0</td>\n",
       "    </tr>\n",
       "    <tr>\n",
       "      <th>1</th>\n",
       "      <td>1</td>\n",
       "      <td>2014-01-01 00:00:30</td>\n",
       "      <td>336501aeaedff0462f3cd55089fa433dbbfff493</td>\n",
       "      <td>Bldg44AP3</td>\n",
       "      <td>30</td>\n",
       "      <td>1</td>\n",
       "    </tr>\n",
       "    <tr>\n",
       "      <th>2</th>\n",
       "      <td>2</td>\n",
       "      <td>2014-01-01 00:00:35</td>\n",
       "      <td>4b912f490ddc1f289f35def68a1662bcc5089a1a</td>\n",
       "      <td>Bldg48AP65</td>\n",
       "      <td>35</td>\n",
       "      <td>2</td>\n",
       "    </tr>\n",
       "    <tr>\n",
       "      <th>3</th>\n",
       "      <td>3</td>\n",
       "      <td>2014-01-01 00:00:40</td>\n",
       "      <td>8e10f9d5aa9c229baae2f745abd25b9c9522ed64</td>\n",
       "      <td>Bldg25AP19</td>\n",
       "      <td>40</td>\n",
       "      <td>3</td>\n",
       "    </tr>\n",
       "    <tr>\n",
       "      <th>4</th>\n",
       "      <td>4</td>\n",
       "      <td>2014-01-01 00:00:51</td>\n",
       "      <td>680fc4c2bd6b252fd6e1a67ad7aa69cdbd3d6e0f</td>\n",
       "      <td>Bldg25AP5</td>\n",
       "      <td>51</td>\n",
       "      <td>4</td>\n",
       "    </tr>\n",
       "    <tr>\n",
       "      <th>...</th>\n",
       "      <td>...</td>\n",
       "      <td>...</td>\n",
       "      <td>...</td>\n",
       "      <td>...</td>\n",
       "      <td>...</td>\n",
       "      <td>...</td>\n",
       "    </tr>\n",
       "    <tr>\n",
       "      <th>12724</th>\n",
       "      <td>12724</td>\n",
       "      <td>2014-01-01 23:58:36</td>\n",
       "      <td>34a2fe9462c797cfc9916b7aa84bbe4a7b42327a</td>\n",
       "      <td>Bldg44AP15</td>\n",
       "      <td>86316</td>\n",
       "      <td>423</td>\n",
       "    </tr>\n",
       "    <tr>\n",
       "      <th>12725</th>\n",
       "      <td>12725</td>\n",
       "      <td>2014-01-01 23:59:03</td>\n",
       "      <td>ec438383187d2fb4a00d4d7cd235494729d05198</td>\n",
       "      <td>Bldg44AP4</td>\n",
       "      <td>86343</td>\n",
       "      <td>42</td>\n",
       "    </tr>\n",
       "    <tr>\n",
       "      <th>12726</th>\n",
       "      <td>12726</td>\n",
       "      <td>2014-01-01 23:59:14</td>\n",
       "      <td>2a9553acf404141b23ce2361d2d58e0ae7b72bb4</td>\n",
       "      <td>Bldg44AP64</td>\n",
       "      <td>86354</td>\n",
       "      <td>33</td>\n",
       "    </tr>\n",
       "    <tr>\n",
       "      <th>12727</th>\n",
       "      <td>12727</td>\n",
       "      <td>2014-01-01 23:59:35</td>\n",
       "      <td>ca2a3933771ce90b5368dfdb95d1959f66fe0150</td>\n",
       "      <td>Bldg14AP12</td>\n",
       "      <td>86375</td>\n",
       "      <td>85</td>\n",
       "    </tr>\n",
       "    <tr>\n",
       "      <th>12728</th>\n",
       "      <td>12728</td>\n",
       "      <td>2014-01-01 23:59:53</td>\n",
       "      <td>34a2fe9462c797cfc9916b7aa84bbe4a7b42327a</td>\n",
       "      <td>Bldg48AP41</td>\n",
       "      <td>86393</td>\n",
       "      <td>423</td>\n",
       "    </tr>\n",
       "  </tbody>\n",
       "</table>\n",
       "<p>12729 rows × 6 columns</p>\n",
       "</div>"
      ],
      "text/plain": [
       "       Unnamed: 0            timestamp  \\\n",
       "0               0  2014-01-01 00:00:24   \n",
       "1               1  2014-01-01 00:00:30   \n",
       "2               2  2014-01-01 00:00:35   \n",
       "3               3  2014-01-01 00:00:40   \n",
       "4               4  2014-01-01 00:00:51   \n",
       "...           ...                  ...   \n",
       "12724       12724  2014-01-01 23:58:36   \n",
       "12725       12725  2014-01-01 23:59:03   \n",
       "12726       12726  2014-01-01 23:59:14   \n",
       "12727       12727  2014-01-01 23:59:35   \n",
       "12728       12728  2014-01-01 23:59:53   \n",
       "\n",
       "                                         client          AP    sec   ID  \n",
       "0      b7f22f3abd9f367af65bd70b4b328e0c35f7cfac  Bldg11AP21     24    0  \n",
       "1      336501aeaedff0462f3cd55089fa433dbbfff493   Bldg44AP3     30    1  \n",
       "2      4b912f490ddc1f289f35def68a1662bcc5089a1a  Bldg48AP65     35    2  \n",
       "3      8e10f9d5aa9c229baae2f745abd25b9c9522ed64  Bldg25AP19     40    3  \n",
       "4      680fc4c2bd6b252fd6e1a67ad7aa69cdbd3d6e0f   Bldg25AP5     51    4  \n",
       "...                                         ...         ...    ...  ...  \n",
       "12724  34a2fe9462c797cfc9916b7aa84bbe4a7b42327a  Bldg44AP15  86316  423  \n",
       "12725  ec438383187d2fb4a00d4d7cd235494729d05198   Bldg44AP4  86343   42  \n",
       "12726  2a9553acf404141b23ce2361d2d58e0ae7b72bb4  Bldg44AP64  86354   33  \n",
       "12727  ca2a3933771ce90b5368dfdb95d1959f66fe0150  Bldg14AP12  86375   85  \n",
       "12728  34a2fe9462c797cfc9916b7aa84bbe4a7b42327a  Bldg48AP41  86393  423  \n",
       "\n",
       "[12729 rows x 6 columns]"
      ]
     },
     "execution_count": 89,
     "metadata": {},
     "output_type": "execute_result"
    }
   ],
   "source": [
    "df"
   ]
  },
  {
   "cell_type": "markdown",
   "metadata": {},
   "source": [
    "### get logs & store"
   ]
  },
  {
   "cell_type": "code",
   "execution_count": 38,
   "metadata": {},
   "outputs": [],
   "source": [
    "#size of data storage\n",
    "N = 150\n",
    "\n",
    "storage = queue.Queue(maxsize=N)"
   ]
  },
  {
   "cell_type": "code",
   "execution_count": 45,
   "metadata": {},
   "outputs": [],
   "source": [
    "for row in df.itertuples():\n",
    "    if(storage.qsize() == N):\n",
    "        storage.get()\n",
    "    storage.put(getattr(row,\"sec\"))"
   ]
  },
  {
   "cell_type": "code",
   "execution_count": 72,
   "metadata": {},
   "outputs": [],
   "source": [
    "df[\"AP_ID\"] = df.index\n",
    "df=df.set_index(\"AP\").drop(columns=[\"floor\",\"x_coordinate(m)\",\"y_coordinate(m)\"])"
   ]
  },
  {
   "cell_type": "code",
   "execution_count": null,
   "metadata": {},
   "outputs": [],
   "source": []
  },
  {
   "cell_type": "code",
   "execution_count": null,
   "metadata": {},
   "outputs": [],
   "source": []
  },
  {
   "cell_type": "code",
   "execution_count": null,
   "metadata": {},
   "outputs": [],
   "source": []
  }
 ],
 "metadata": {
  "kernelspec": {
   "display_name": "Python 3",
   "language": "python",
   "name": "python3"
  },
  "language_info": {
   "codemirror_mode": {
    "name": "ipython",
    "version": 3
   },
   "file_extension": ".py",
   "mimetype": "text/x-python",
   "name": "python",
   "nbconvert_exporter": "python",
   "pygments_lexer": "ipython3",
   "version": "3.7.4"
  }
 },
 "nbformat": 4,
 "nbformat_minor": 4
}
