{
 "cells": [
  {
   "cell_type": "markdown",
   "metadata": {},
   "source": [
    "## Contact Learning\n",
    "\n",
    "KTH데이터를 기준으로 돌리기\n"
   ]
  },
  {
   "cell_type": "code",
   "execution_count": 1,
   "metadata": {},
   "outputs": [],
   "source": [
    "import pandas as pd\n",
    "import preprocessing as p"
   ]
  },
  {
   "cell_type": "code",
   "execution_count": 2,
   "metadata": {},
   "outputs": [],
   "source": [
    "df=p.to_testdf(pd.read_csv(\"sample/2014_01_01.csv\"))"
   ]
  },
  {
   "cell_type": "code",
   "execution_count": 3,
   "metadata": {},
   "outputs": [
    {
     "data": {
      "text/html": [
       "<div>\n",
       "<style scoped>\n",
       "    .dataframe tbody tr th:only-of-type {\n",
       "        vertical-align: middle;\n",
       "    }\n",
       "\n",
       "    .dataframe tbody tr th {\n",
       "        vertical-align: top;\n",
       "    }\n",
       "\n",
       "    .dataframe thead th {\n",
       "        text-align: right;\n",
       "    }\n",
       "</style>\n",
       "<table border=\"1\" class=\"dataframe\">\n",
       "  <thead>\n",
       "    <tr style=\"text-align: right;\">\n",
       "      <th></th>\n",
       "      <th>sec</th>\n",
       "      <th>ID</th>\n",
       "      <th>x_coordinate(m)</th>\n",
       "      <th>y_coordinate(m)</th>\n",
       "    </tr>\n",
       "  </thead>\n",
       "  <tbody>\n",
       "    <tr>\n",
       "      <th>0</th>\n",
       "      <td>24</td>\n",
       "      <td>0</td>\n",
       "      <td>21663</td>\n",
       "      <td>33167</td>\n",
       "    </tr>\n",
       "    <tr>\n",
       "      <th>1</th>\n",
       "      <td>1810</td>\n",
       "      <td>0</td>\n",
       "      <td>21663</td>\n",
       "      <td>33167</td>\n",
       "    </tr>\n",
       "    <tr>\n",
       "      <th>2</th>\n",
       "      <td>3620</td>\n",
       "      <td>0</td>\n",
       "      <td>21663</td>\n",
       "      <td>33167</td>\n",
       "    </tr>\n",
       "    <tr>\n",
       "      <th>3</th>\n",
       "      <td>5398</td>\n",
       "      <td>0</td>\n",
       "      <td>21663</td>\n",
       "      <td>33167</td>\n",
       "    </tr>\n",
       "    <tr>\n",
       "      <th>4</th>\n",
       "      <td>7223</td>\n",
       "      <td>0</td>\n",
       "      <td>21663</td>\n",
       "      <td>33167</td>\n",
       "    </tr>\n",
       "    <tr>\n",
       "      <th>...</th>\n",
       "      <td>...</td>\n",
       "      <td>...</td>\n",
       "      <td>...</td>\n",
       "      <td>...</td>\n",
       "    </tr>\n",
       "    <tr>\n",
       "      <th>12724</th>\n",
       "      <td>81856</td>\n",
       "      <td>497</td>\n",
       "      <td>14703</td>\n",
       "      <td>39123</td>\n",
       "    </tr>\n",
       "    <tr>\n",
       "      <th>12725</th>\n",
       "      <td>81891</td>\n",
       "      <td>158</td>\n",
       "      <td>21510</td>\n",
       "      <td>33050</td>\n",
       "    </tr>\n",
       "    <tr>\n",
       "      <th>12726</th>\n",
       "      <td>83485</td>\n",
       "      <td>507</td>\n",
       "      <td>21808</td>\n",
       "      <td>32346</td>\n",
       "    </tr>\n",
       "    <tr>\n",
       "      <th>12727</th>\n",
       "      <td>84642</td>\n",
       "      <td>507</td>\n",
       "      <td>21808</td>\n",
       "      <td>32346</td>\n",
       "    </tr>\n",
       "    <tr>\n",
       "      <th>12728</th>\n",
       "      <td>86316</td>\n",
       "      <td>423</td>\n",
       "      <td>14703</td>\n",
       "      <td>39123</td>\n",
       "    </tr>\n",
       "  </tbody>\n",
       "</table>\n",
       "<p>12729 rows × 4 columns</p>\n",
       "</div>"
      ],
      "text/plain": [
       "         sec   ID  x_coordinate(m)  y_coordinate(m)\n",
       "0         24    0            21663            33167\n",
       "1       1810    0            21663            33167\n",
       "2       3620    0            21663            33167\n",
       "3       5398    0            21663            33167\n",
       "4       7223    0            21663            33167\n",
       "...      ...  ...              ...              ...\n",
       "12724  81856  497            14703            39123\n",
       "12725  81891  158            21510            33050\n",
       "12726  83485  507            21808            32346\n",
       "12727  84642  507            21808            32346\n",
       "12728  86316  423            14703            39123\n",
       "\n",
       "[12729 rows x 4 columns]"
      ]
     },
     "execution_count": 3,
     "metadata": {},
     "output_type": "execute_result"
    }
   ],
   "source": [
    "df"
   ]
  },
  {
   "cell_type": "code",
   "execution_count": null,
   "metadata": {},
   "outputs": [],
   "source": []
  },
  {
   "cell_type": "code",
   "execution_count": null,
   "metadata": {},
   "outputs": [],
   "source": []
  },
  {
   "cell_type": "code",
   "execution_count": null,
   "metadata": {},
   "outputs": [],
   "source": []
  }
 ],
 "metadata": {
  "kernelspec": {
   "display_name": "Python 3",
   "language": "python",
   "name": "python3"
  },
  "language_info": {
   "codemirror_mode": {
    "name": "ipython",
    "version": 3
   },
   "file_extension": ".py",
   "mimetype": "text/x-python",
   "name": "python",
   "nbconvert_exporter": "python",
   "pygments_lexer": "ipython3",
   "version": "3.7.4"
  }
 },
 "nbformat": 4,
 "nbformat_minor": 4
}
