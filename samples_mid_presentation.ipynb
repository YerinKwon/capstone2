{
 "cells": [
  {
   "cell_type": "code",
   "execution_count": 1,
   "metadata": {},
   "outputs": [],
   "source": [
    "import pandas as pd"
   ]
  },
  {
   "cell_type": "code",
   "execution_count": 2,
   "metadata": {},
   "outputs": [],
   "source": [
    "original = pd.read_csv('data/trace_original/2014_07.csv')\n",
    "APlocations = pd.read_csv('data/traceset1/APlocations.csv')\n",
    "preprocessed = pd.read_csv('data/trace_by_ID/19.csv')"
   ]
  },
  {
   "cell_type": "code",
   "execution_count": null,
   "metadata": {},
   "outputs": [],
   "source": [
    "original[:5]"
   ]
  },
  {
   "cell_type": "code",
   "execution_count": null,
   "metadata": {},
   "outputs": [],
   "source": [
    "APlocations[:5]"
   ]
  },
  {
   "cell_type": "code",
   "execution_count": null,
   "metadata": {},
   "outputs": [],
   "source": [
    "preprocessed[:5]"
   ]
  },
  {
   "cell_type": "code",
   "execution_count": 7,
   "metadata": {},
   "outputs": [],
   "source": [
    "preprocessed = pd.read_csv('data/trace_by_ID/10.csv')"
   ]
  },
  {
   "cell_type": "code",
   "execution_count": 8,
   "metadata": {},
   "outputs": [
    {
     "data": {
      "text/html": [
       "<div>\n",
       "<style scoped>\n",
       "    .dataframe tbody tr th:only-of-type {\n",
       "        vertical-align: middle;\n",
       "    }\n",
       "\n",
       "    .dataframe tbody tr th {\n",
       "        vertical-align: top;\n",
       "    }\n",
       "\n",
       "    .dataframe thead th {\n",
       "        text-align: right;\n",
       "    }\n",
       "</style>\n",
       "<table border=\"1\" class=\"dataframe\">\n",
       "  <thead>\n",
       "    <tr style=\"text-align: right;\">\n",
       "      <th></th>\n",
       "      <th>sec</th>\n",
       "      <th>ID</th>\n",
       "      <th>x_coordinate(m)</th>\n",
       "      <th>y_coordinate(m)</th>\n",
       "      <th>AP_ID</th>\n",
       "    </tr>\n",
       "  </thead>\n",
       "  <tbody>\n",
       "    <tr>\n",
       "      <th>0</th>\n",
       "      <td>113</td>\n",
       "      <td>10</td>\n",
       "      <td>21534</td>\n",
       "      <td>32313</td>\n",
       "      <td>21</td>\n",
       "    </tr>\n",
       "    <tr>\n",
       "      <th>1</th>\n",
       "      <td>27727</td>\n",
       "      <td>10</td>\n",
       "      <td>21728</td>\n",
       "      <td>32711</td>\n",
       "      <td>141</td>\n",
       "    </tr>\n",
       "    <tr>\n",
       "      <th>2</th>\n",
       "      <td>46175</td>\n",
       "      <td>10</td>\n",
       "      <td>21728</td>\n",
       "      <td>32711</td>\n",
       "      <td>142</td>\n",
       "    </tr>\n",
       "    <tr>\n",
       "      <th>3</th>\n",
       "      <td>27931</td>\n",
       "      <td>10</td>\n",
       "      <td>21613</td>\n",
       "      <td>32759</td>\n",
       "      <td>206</td>\n",
       "    </tr>\n",
       "    <tr>\n",
       "      <th>4</th>\n",
       "      <td>27992</td>\n",
       "      <td>10</td>\n",
       "      <td>21613</td>\n",
       "      <td>32759</td>\n",
       "      <td>204</td>\n",
       "    </tr>\n",
       "    <tr>\n",
       "      <th>5</th>\n",
       "      <td>46157</td>\n",
       "      <td>10</td>\n",
       "      <td>21728</td>\n",
       "      <td>32711</td>\n",
       "      <td>144</td>\n",
       "    </tr>\n",
       "    <tr>\n",
       "      <th>6</th>\n",
       "      <td>27665</td>\n",
       "      <td>10</td>\n",
       "      <td>21804</td>\n",
       "      <td>32683</td>\n",
       "      <td>53</td>\n",
       "    </tr>\n",
       "    <tr>\n",
       "      <th>7</th>\n",
       "      <td>27985</td>\n",
       "      <td>10</td>\n",
       "      <td>21613</td>\n",
       "      <td>32759</td>\n",
       "      <td>193</td>\n",
       "    </tr>\n",
       "    <tr>\n",
       "      <th>8</th>\n",
       "      <td>45590</td>\n",
       "      <td>10</td>\n",
       "      <td>21763</td>\n",
       "      <td>32993</td>\n",
       "      <td>458</td>\n",
       "    </tr>\n",
       "    <tr>\n",
       "      <th>9</th>\n",
       "      <td>28191</td>\n",
       "      <td>10</td>\n",
       "      <td>21408</td>\n",
       "      <td>33024</td>\n",
       "      <td>652</td>\n",
       "    </tr>\n",
       "    <tr>\n",
       "      <th>10</th>\n",
       "      <td>45383</td>\n",
       "      <td>10</td>\n",
       "      <td>21408</td>\n",
       "      <td>33024</td>\n",
       "      <td>652</td>\n",
       "    </tr>\n",
       "    <tr>\n",
       "      <th>11</th>\n",
       "      <td>28238</td>\n",
       "      <td>10</td>\n",
       "      <td>21399</td>\n",
       "      <td>33054</td>\n",
       "      <td>679</td>\n",
       "    </tr>\n",
       "    <tr>\n",
       "      <th>12</th>\n",
       "      <td>45323</td>\n",
       "      <td>10</td>\n",
       "      <td>21399</td>\n",
       "      <td>33054</td>\n",
       "      <td>679</td>\n",
       "    </tr>\n",
       "    <tr>\n",
       "      <th>13</th>\n",
       "      <td>28320</td>\n",
       "      <td>10</td>\n",
       "      <td>21399</td>\n",
       "      <td>33054</td>\n",
       "      <td>689</td>\n",
       "    </tr>\n",
       "    <tr>\n",
       "      <th>14</th>\n",
       "      <td>28627</td>\n",
       "      <td>10</td>\n",
       "      <td>21399</td>\n",
       "      <td>33054</td>\n",
       "      <td>689</td>\n",
       "    </tr>\n",
       "  </tbody>\n",
       "</table>\n",
       "</div>"
      ],
      "text/plain": [
       "      sec  ID  x_coordinate(m)  y_coordinate(m)  AP_ID\n",
       "0     113  10            21534            32313     21\n",
       "1   27727  10            21728            32711    141\n",
       "2   46175  10            21728            32711    142\n",
       "3   27931  10            21613            32759    206\n",
       "4   27992  10            21613            32759    204\n",
       "5   46157  10            21728            32711    144\n",
       "6   27665  10            21804            32683     53\n",
       "7   27985  10            21613            32759    193\n",
       "8   45590  10            21763            32993    458\n",
       "9   28191  10            21408            33024    652\n",
       "10  45383  10            21408            33024    652\n",
       "11  28238  10            21399            33054    679\n",
       "12  45323  10            21399            33054    679\n",
       "13  28320  10            21399            33054    689\n",
       "14  28627  10            21399            33054    689"
      ]
     },
     "execution_count": 8,
     "metadata": {},
     "output_type": "execute_result"
    }
   ],
   "source": [
    "preprocessed[:15]"
   ]
  },
  {
   "cell_type": "code",
   "execution_count": 3,
   "metadata": {},
   "outputs": [],
   "source": [
    "import neighborDiscovery\n",
    "import queue\n",
    "import numpy as np"
   ]
  },
  {
   "cell_type": "code",
   "execution_count": 4,
   "metadata": {},
   "outputs": [],
   "source": [
    "nd = neighborDiscovery.neighborDiscovery()\n",
    "storage = queue.Queue()"
   ]
  },
  {
   "cell_type": "code",
   "execution_count": 23,
   "metadata": {},
   "outputs": [],
   "source": [
    "storage.put(28627)"
   ]
  },
  {
   "cell_type": "code",
   "execution_count": 24,
   "metadata": {},
   "outputs": [
    {
     "data": {
      "text/plain": [
       "15"
      ]
     },
     "execution_count": 24,
     "metadata": {},
     "output_type": "execute_result"
    }
   ],
   "source": [
    "storage.qsize()"
   ]
  },
  {
   "cell_type": "code",
   "execution_count": 27,
   "metadata": {},
   "outputs": [
    {
     "name": "stdout",
     "output_type": "stream",
     "text": [
      "113\n",
      "27727\n",
      "46175\n",
      "27931\n",
      "27992\n",
      "46157\n",
      "27665\n",
      "27985\n",
      "45590\n",
      "28191\n",
      "45383\n",
      "28238\n",
      "45323\n",
      "28320\n",
      "28627\n"
     ]
    }
   ],
   "source": [
    "for i in range(storage.qsize()):\n",
    "    a = storage.get()\n",
    "    print(a)\n",
    "    storage.put(a)"
   ]
  },
  {
   "cell_type": "code",
   "execution_count": 28,
   "metadata": {},
   "outputs": [],
   "source": [
    "patterns=[]\n",
    "t_list = []\n",
    "qsize = storage.qsize()\n",
    "for i in range(3):\n",
    "    t_list.append(storage.get())\n",
    "\n",
    "for i in range(qsize-3):\n",
    "    patterns.append(np.array(t_list))\n",
    "    storage.put(t_list[0])\n",
    "    t_list = t_list[1:]\n",
    "    t_list.append(storage.get())\n",
    "\n",
    "for i in range(3):\n",
    "    storage.put(t_list[i])\n",
    "\n",
    "patterns.append(np.array(t_list))"
   ]
  },
  {
   "cell_type": "code",
   "execution_count": 29,
   "metadata": {},
   "outputs": [
    {
     "data": {
      "text/plain": [
       "[45323, 28320, 28627]"
      ]
     },
     "execution_count": 29,
     "metadata": {},
     "output_type": "execute_result"
    }
   ],
   "source": [
    "t_list"
   ]
  },
  {
   "cell_type": "code",
   "execution_count": 30,
   "metadata": {},
   "outputs": [
    {
     "data": {
      "text/plain": [
       "[array([  113, 27727, 46175]),\n",
       " array([27727, 46175, 27931]),\n",
       " array([46175, 27931, 27992]),\n",
       " array([27931, 27992, 46157]),\n",
       " array([27992, 46157, 27665]),\n",
       " array([46157, 27665, 27985]),\n",
       " array([27665, 27985, 45590]),\n",
       " array([27985, 45590, 28191]),\n",
       " array([45590, 28191, 45383]),\n",
       " array([28191, 45383, 28238]),\n",
       " array([45383, 28238, 45323]),\n",
       " array([28238, 45323, 28320]),\n",
       " array([45323, 28320, 28627])]"
      ]
     },
     "execution_count": 30,
     "metadata": {},
     "output_type": "execute_result"
    }
   ],
   "source": [
    "patterns"
   ]
  },
  {
   "cell_type": "code",
   "execution_count": 33,
   "metadata": {},
   "outputs": [],
   "source": [
    "predicted = nd.ContactPrediction(storage, 1000)"
   ]
  },
  {
   "cell_type": "code",
   "execution_count": 34,
   "metadata": {},
   "outputs": [
    {
     "data": {
      "text/plain": [
       "[27798.0]"
      ]
     },
     "execution_count": 34,
     "metadata": {},
     "output_type": "execute_result"
    }
   ],
   "source": [
    "predicted"
   ]
  },
  {
   "cell_type": "code",
   "execution_count": 49,
   "metadata": {},
   "outputs": [
    {
     "name": "stdout",
     "output_type": "stream",
     "text": [
      "1 : 8\n"
     ]
    }
   ],
   "source": [
    "predicted = []\n",
    "case_type, duty_cycle = nd.DutyCycleAdaptation(predicted,27798, 1200)\n",
    "print(case_type, \":\",duty_cycle)"
   ]
  },
  {
   "cell_type": "code",
   "execution_count": 50,
   "metadata": {},
   "outputs": [
    {
     "name": "stdout",
     "output_type": "stream",
     "text": [
      "2 : 20.0\n"
     ]
    }
   ],
   "source": [
    "predicted = [27798.0]\n",
    "case_type, duty_cycle = nd.DutyCycleAdaptation(predicted,27798, 1200)\n",
    "print(case_type, \":\",duty_cycle)"
   ]
  },
  {
   "cell_type": "code",
   "execution_count": 55,
   "metadata": {},
   "outputs": [
    {
     "name": "stdout",
     "output_type": "stream",
     "text": [
      "4 : 2\n"
     ]
    }
   ],
   "source": [
    "predicted = [27798.0]\n",
    "case_type, duty_cycle = nd.DutyCycleAdaptation(predicted,10000, 1200)\n",
    "print(case_type, \":\",duty_cycle)"
   ]
  },
  {
   "cell_type": "code",
   "execution_count": 54,
   "metadata": {},
   "outputs": [
    {
     "name": "stdout",
     "output_type": "stream",
     "text": [
      "3 : 8.0\n"
     ]
    }
   ],
   "source": [
    "predicted = [20000, 30000]\n",
    "case_type, duty_cycle = nd.DutyCycleAdaptation(predicted,25000, 5000)\n",
    "print(case_type, \":\",duty_cycle)"
   ]
  },
  {
   "cell_type": "code",
   "execution_count": null,
   "metadata": {},
   "outputs": [],
   "source": []
  },
  {
   "cell_type": "code",
   "execution_count": null,
   "metadata": {},
   "outputs": [],
   "source": []
  }
 ],
 "metadata": {
  "kernelspec": {
   "display_name": "Python 3",
   "language": "python",
   "name": "python3"
  },
  "language_info": {
   "codemirror_mode": {
    "name": "ipython",
    "version": 3
   },
   "file_extension": ".py",
   "mimetype": "text/x-python",
   "name": "python",
   "nbconvert_exporter": "python",
   "pygments_lexer": "ipython3",
   "version": "3.7.4"
  }
 },
 "nbformat": 4,
 "nbformat_minor": 4
}
