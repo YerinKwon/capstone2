{
 "cells": [
  {
   "cell_type": "code",
   "execution_count": 1,
   "metadata": {
    "colab": {},
    "colab_type": "code",
    "id": "IFaBhZ8xQiNy"
   },
   "outputs": [],
   "source": [
    "import pandas as pd\n",
    "import numpy as np\n",
    "import os\n",
    "import re\n",
    "from datetime import datetime\n",
    "import pickle"
   ]
  },
  {
   "cell_type": "markdown",
   "metadata": {},
   "source": [
    "## Split Original Files\n",
    "\n",
    "월 단위로 되어있는 데이터를 편의상 일 단위로 변환"
   ]
  },
  {
   "cell_type": "code",
   "execution_count": 3,
   "metadata": {
    "colab": {
     "base_uri": "https://localhost:8080/",
     "height": 289
    },
    "colab_type": "code",
    "id": "1R-wuvkjQ19g",
    "outputId": "5b986b53-328d-481f-8ef6-fb4b749b5285"
   },
   "outputs": [],
   "source": [
    "dot_csv = re.compile('[0-9]{4}_[0-9]{2}[.]csv')\n",
    "csv_files = [file for file in os.listdir(\"traceset1\") if dot_csv.match(file)]"
   ]
  },
  {
   "cell_type": "code",
   "execution_count": 5,
   "metadata": {
    "colab": {},
    "colab_type": "code",
    "id": "UH2Nsw3oQ17g"
   },
   "outputs": [],
   "source": [
    "def split_file(filename):\n",
    "    df = pd.read_csv(\"traceset1/\"+filename)\n",
    "    strt = 0\n",
    "    prev_time = pd.to_datetime(df.loc[0,'timestamp'])\n",
    "    for i,time in enumerate(df['timestamp']):\n",
    "        cur_time = pd.to_datetime(time)\n",
    "        if(prev_time.day != cur_time.day):\n",
    "            df[strt:i].to_csv(\"trace_by_date/\"+prev_time.strftime(\"%Y_%m_%d\")+\".csv\")\n",
    "            prev_time = cur_time\n",
    "            strt = i\n",
    "    df[strt:].to_csv(\"trace_by_date/\"+prev_time.strftime(\"%Y_%m_%d\")+\".csv\")"
   ]
  },
  {
   "cell_type": "code",
   "execution_count": 6,
   "metadata": {
    "collapsed": true
   },
   "outputs": [
    {
     "ename": "KeyboardInterrupt",
     "evalue": "",
     "output_type": "error",
     "traceback": [
      "\u001b[0;31m---------------------------------------------------------------------------\u001b[0m",
      "\u001b[0;31mKeyboardInterrupt\u001b[0m                         Traceback (most recent call last)",
      "\u001b[0;32m<ipython-input-6-24d243337839>\u001b[0m in \u001b[0;36m<module>\u001b[0;34m\u001b[0m\n\u001b[0;32m----> 1\u001b[0;31m \u001b[0msplit_file\u001b[0m\u001b[0;34m(\u001b[0m\u001b[0;34m\"2014_07.csv\"\u001b[0m\u001b[0;34m)\u001b[0m\u001b[0;34m\u001b[0m\u001b[0;34m\u001b[0m\u001b[0m\n\u001b[0m",
      "\u001b[0;32m<ipython-input-5-25f2cef4987a>\u001b[0m in \u001b[0;36msplit_file\u001b[0;34m(filename)\u001b[0m\n\u001b[1;32m      4\u001b[0m     \u001b[0mprev_time\u001b[0m \u001b[0;34m=\u001b[0m \u001b[0mpd\u001b[0m\u001b[0;34m.\u001b[0m\u001b[0mto_datetime\u001b[0m\u001b[0;34m(\u001b[0m\u001b[0mdf\u001b[0m\u001b[0;34m.\u001b[0m\u001b[0mloc\u001b[0m\u001b[0;34m[\u001b[0m\u001b[0;36m0\u001b[0m\u001b[0;34m,\u001b[0m\u001b[0;34m'timestamp'\u001b[0m\u001b[0;34m]\u001b[0m\u001b[0;34m)\u001b[0m\u001b[0;34m\u001b[0m\u001b[0;34m\u001b[0m\u001b[0m\n\u001b[1;32m      5\u001b[0m     \u001b[0;32mfor\u001b[0m \u001b[0mi\u001b[0m\u001b[0;34m,\u001b[0m\u001b[0mtime\u001b[0m \u001b[0;32min\u001b[0m \u001b[0menumerate\u001b[0m\u001b[0;34m(\u001b[0m\u001b[0mdf\u001b[0m\u001b[0;34m[\u001b[0m\u001b[0;34m'timestamp'\u001b[0m\u001b[0;34m]\u001b[0m\u001b[0;34m)\u001b[0m\u001b[0;34m:\u001b[0m\u001b[0;34m\u001b[0m\u001b[0;34m\u001b[0m\u001b[0m\n\u001b[0;32m----> 6\u001b[0;31m         \u001b[0mcur_time\u001b[0m \u001b[0;34m=\u001b[0m \u001b[0mpd\u001b[0m\u001b[0;34m.\u001b[0m\u001b[0mto_datetime\u001b[0m\u001b[0;34m(\u001b[0m\u001b[0mtime\u001b[0m\u001b[0;34m)\u001b[0m\u001b[0;34m\u001b[0m\u001b[0;34m\u001b[0m\u001b[0m\n\u001b[0m\u001b[1;32m      7\u001b[0m         \u001b[0;32mif\u001b[0m\u001b[0;34m(\u001b[0m\u001b[0mprev_time\u001b[0m\u001b[0;34m.\u001b[0m\u001b[0mday\u001b[0m \u001b[0;34m!=\u001b[0m \u001b[0mcur_time\u001b[0m\u001b[0;34m.\u001b[0m\u001b[0mday\u001b[0m\u001b[0;34m)\u001b[0m\u001b[0;34m:\u001b[0m\u001b[0;34m\u001b[0m\u001b[0;34m\u001b[0m\u001b[0m\n\u001b[1;32m      8\u001b[0m             \u001b[0mdf\u001b[0m\u001b[0;34m[\u001b[0m\u001b[0mstrt\u001b[0m\u001b[0;34m:\u001b[0m\u001b[0mi\u001b[0m\u001b[0;34m]\u001b[0m\u001b[0;34m.\u001b[0m\u001b[0mto_csv\u001b[0m\u001b[0;34m(\u001b[0m\u001b[0;34m\"trace_by_date/\"\u001b[0m\u001b[0;34m+\u001b[0m\u001b[0mprev_time\u001b[0m\u001b[0;34m.\u001b[0m\u001b[0mstrftime\u001b[0m\u001b[0;34m(\u001b[0m\u001b[0;34m\"%Y_%m_%d\"\u001b[0m\u001b[0;34m)\u001b[0m\u001b[0;34m+\u001b[0m\u001b[0;34m\".csv\"\u001b[0m\u001b[0;34m)\u001b[0m\u001b[0;34m\u001b[0m\u001b[0;34m\u001b[0m\u001b[0m\n",
      "\u001b[0;32m/usr/local/lib/python3.7/site-packages/pandas/core/tools/datetimes.py\u001b[0m in \u001b[0;36mto_datetime\u001b[0;34m(arg, errors, dayfirst, yearfirst, utc, format, exact, unit, infer_datetime_format, origin, cache)\u001b[0m\n\u001b[1;32m    754\u001b[0m             \u001b[0mresult\u001b[0m \u001b[0;34m=\u001b[0m \u001b[0mconvert_listlike\u001b[0m\u001b[0;34m(\u001b[0m\u001b[0marg\u001b[0m\u001b[0;34m,\u001b[0m \u001b[0mformat\u001b[0m\u001b[0;34m)\u001b[0m\u001b[0;34m\u001b[0m\u001b[0;34m\u001b[0m\u001b[0m\n\u001b[1;32m    755\u001b[0m     \u001b[0;32melse\u001b[0m\u001b[0;34m:\u001b[0m\u001b[0;34m\u001b[0m\u001b[0;34m\u001b[0m\u001b[0m\n\u001b[0;32m--> 756\u001b[0;31m         \u001b[0mresult\u001b[0m \u001b[0;34m=\u001b[0m \u001b[0mconvert_listlike\u001b[0m\u001b[0;34m(\u001b[0m\u001b[0mnp\u001b[0m\u001b[0;34m.\u001b[0m\u001b[0marray\u001b[0m\u001b[0;34m(\u001b[0m\u001b[0;34m[\u001b[0m\u001b[0marg\u001b[0m\u001b[0;34m]\u001b[0m\u001b[0;34m)\u001b[0m\u001b[0;34m,\u001b[0m \u001b[0mformat\u001b[0m\u001b[0;34m)\u001b[0m\u001b[0;34m[\u001b[0m\u001b[0;36m0\u001b[0m\u001b[0;34m]\u001b[0m\u001b[0;34m\u001b[0m\u001b[0;34m\u001b[0m\u001b[0m\n\u001b[0m\u001b[1;32m    757\u001b[0m \u001b[0;34m\u001b[0m\u001b[0m\n\u001b[1;32m    758\u001b[0m     \u001b[0;32mreturn\u001b[0m \u001b[0mresult\u001b[0m\u001b[0;34m\u001b[0m\u001b[0;34m\u001b[0m\u001b[0m\n",
      "\u001b[0;32m/usr/local/lib/python3.7/site-packages/pandas/core/tools/datetimes.py\u001b[0m in \u001b[0;36m_convert_listlike_datetimes\u001b[0;34m(arg, format, name, tz, unit, errors, infer_datetime_format, dayfirst, yearfirst, exact)\u001b[0m\n\u001b[1;32m    445\u001b[0m             \u001b[0merrors\u001b[0m\u001b[0;34m=\u001b[0m\u001b[0merrors\u001b[0m\u001b[0;34m,\u001b[0m\u001b[0;34m\u001b[0m\u001b[0;34m\u001b[0m\u001b[0m\n\u001b[1;32m    446\u001b[0m             \u001b[0mrequire_iso8601\u001b[0m\u001b[0;34m=\u001b[0m\u001b[0mrequire_iso8601\u001b[0m\u001b[0;34m,\u001b[0m\u001b[0;34m\u001b[0m\u001b[0;34m\u001b[0m\u001b[0m\n\u001b[0;32m--> 447\u001b[0;31m             \u001b[0mallow_object\u001b[0m\u001b[0;34m=\u001b[0m\u001b[0;32mTrue\u001b[0m\u001b[0;34m,\u001b[0m\u001b[0;34m\u001b[0m\u001b[0;34m\u001b[0m\u001b[0m\n\u001b[0m\u001b[1;32m    448\u001b[0m         )\n\u001b[1;32m    449\u001b[0m \u001b[0;34m\u001b[0m\u001b[0m\n",
      "\u001b[0;32m/usr/local/lib/python3.7/site-packages/pandas/core/arrays/datetimes.py\u001b[0m in \u001b[0;36mobjects_to_datetime64ns\u001b[0;34m(data, dayfirst, yearfirst, utc, errors, require_iso8601, allow_object)\u001b[0m\n\u001b[1;32m   1852\u001b[0m             \u001b[0mdayfirst\u001b[0m\u001b[0;34m=\u001b[0m\u001b[0mdayfirst\u001b[0m\u001b[0;34m,\u001b[0m\u001b[0;34m\u001b[0m\u001b[0;34m\u001b[0m\u001b[0m\n\u001b[1;32m   1853\u001b[0m             \u001b[0myearfirst\u001b[0m\u001b[0;34m=\u001b[0m\u001b[0myearfirst\u001b[0m\u001b[0;34m,\u001b[0m\u001b[0;34m\u001b[0m\u001b[0;34m\u001b[0m\u001b[0m\n\u001b[0;32m-> 1854\u001b[0;31m             \u001b[0mrequire_iso8601\u001b[0m\u001b[0;34m=\u001b[0m\u001b[0mrequire_iso8601\u001b[0m\u001b[0;34m,\u001b[0m\u001b[0;34m\u001b[0m\u001b[0;34m\u001b[0m\u001b[0m\n\u001b[0m\u001b[1;32m   1855\u001b[0m         )\n\u001b[1;32m   1856\u001b[0m     \u001b[0;32mexcept\u001b[0m \u001b[0mValueError\u001b[0m \u001b[0;32mas\u001b[0m \u001b[0me\u001b[0m\u001b[0;34m:\u001b[0m\u001b[0;34m\u001b[0m\u001b[0;34m\u001b[0m\u001b[0m\n",
      "\u001b[0;31mKeyboardInterrupt\u001b[0m: "
     ]
    }
   ],
   "source": [
    "for file in csv_files:\n",
    "    split_file(file)"
   ]
  },
  {
   "cell_type": "markdown",
   "metadata": {},
   "source": [
    "## Change Time unit\n",
    "\n",
    "기존 데이터는 시간을 '년-월-일 시:분:초' 로 저장함.\n",
    "\n",
    "이를 각 일별로 자정을 기준으로 초단위로 변환"
   ]
  },
  {
   "cell_type": "code",
   "execution_count": 2,
   "metadata": {
    "colab": {},
    "colab_type": "code",
    "id": "dL0rLX4TQ13o"
   },
   "outputs": [],
   "source": [
    "df = pd.read_csv(\"sample/2014_01_01.csv\")"
   ]
  },
  {
   "cell_type": "code",
   "execution_count": 3,
   "metadata": {
    "colab": {},
    "colab_type": "code",
    "id": "Cg-A-YfdQ11U"
   },
   "outputs": [],
   "source": [
    "t0 = datetime(2014,1,1)  \n",
    "df[\"sec\"]=(pd.to_datetime(df[\"timestamp\"]) -t0).dt.total_seconds()"
   ]
  },
  {
   "cell_type": "code",
   "execution_count": 8,
   "metadata": {},
   "outputs": [],
   "source": [
    "#자동화버전- input:dataframe\n",
    "def to_sec(df):\n",
    "    ymd = list(map(int,\"2014_01_01.csv\".replace(\".csv\",\"\").split('_')))\n",
    "    t0 = datetime(ymd[0],ymd[1],ymd[2])\n",
    "    df[\"sec\"] = (pd.to_datetime(df[\"timestamp\"]) -t0).dt.total_seconds()"
   ]
  },
  {
   "cell_type": "markdown",
   "metadata": {},
   "source": [
    "## Client Mapping\n",
    "\n",
    "기존 데이터는 고객을 임의의 string으로 구분함.\n",
    "\n",
    "이를 숫자로 변환."
   ]
  },
  {
   "cell_type": "code",
   "execution_count": 4,
   "metadata": {},
   "outputs": [],
   "source": [
    "c_id = 0\n",
    "dic = {}\n",
    "\n",
    "c_id_lst = []\n",
    "for client in df.client:\n",
    "        if client in dic:\n",
    "            c_id_lst.append(dic[client])\n",
    "        else:\n",
    "            c_id_lst.append(c_id)\n",
    "            dic[client] = c_id\n",
    "            c_id += 1\n",
    "            \n",
    "df[\"ID\"] = c_id_lst"
   ]
  },
  {
   "cell_type": "code",
   "execution_count": 28,
   "metadata": {},
   "outputs": [],
   "source": [
    "# 자동화버전 - input: dataframe\n",
    "def to_ID(df):\n",
    "    c_id_lst = []\n",
    "    # dictionary, lastcount는 공유해야함: pickle\n",
    "    with open(\"ID_dictionary.pickle\",\"rb\") as fr:\n",
    "        dic = pickle.load(fr)\n",
    "    with open(\"ID_cnt.pickle\",\"rb\") as fr:\n",
    "        c_id = pickle.load(fr)    \n",
    "        \n",
    "    for client in df.client:\n",
    "            if client in dic:\n",
    "                c_id_lst.append(dic[client])\n",
    "            else:\n",
    "                c_id_lst.append(c_id)\n",
    "                dic[client] = c_id\n",
    "                c_id += 1\n",
    "    df[\"ID\"] = c_id_lst\n",
    "                \n",
    "    with open(\"ID_dictionary.pickle\",\"wb\") as fw:\n",
    "        pickle.dump(dic, fw)\n",
    "    with open(\"ID_cnt.pickle\",\"wb\") as fw:\n",
    "        pickle.dump(c_id, fw)"
   ]
  },
  {
   "cell_type": "code",
   "execution_count": 5,
   "metadata": {},
   "outputs": [
    {
     "data": {
      "text/html": [
       "<div>\n",
       "<style scoped>\n",
       "    .dataframe tbody tr th:only-of-type {\n",
       "        vertical-align: middle;\n",
       "    }\n",
       "\n",
       "    .dataframe tbody tr th {\n",
       "        vertical-align: top;\n",
       "    }\n",
       "\n",
       "    .dataframe thead th {\n",
       "        text-align: right;\n",
       "    }\n",
       "</style>\n",
       "<table border=\"1\" class=\"dataframe\">\n",
       "  <thead>\n",
       "    <tr style=\"text-align: right;\">\n",
       "      <th></th>\n",
       "      <th>timestamp</th>\n",
       "      <th>client</th>\n",
       "      <th>AP</th>\n",
       "      <th>sec</th>\n",
       "      <th>ID</th>\n",
       "    </tr>\n",
       "  </thead>\n",
       "  <tbody>\n",
       "    <tr>\n",
       "      <th>0</th>\n",
       "      <td>2014-01-01 00:00:24</td>\n",
       "      <td>b7f22f3abd9f367af65bd70b4b328e0c35f7cfac</td>\n",
       "      <td>Bldg11AP21</td>\n",
       "      <td>24.0</td>\n",
       "      <td>0</td>\n",
       "    </tr>\n",
       "    <tr>\n",
       "      <th>1</th>\n",
       "      <td>2014-01-01 00:00:30</td>\n",
       "      <td>336501aeaedff0462f3cd55089fa433dbbfff493</td>\n",
       "      <td>Bldg44AP3</td>\n",
       "      <td>30.0</td>\n",
       "      <td>1</td>\n",
       "    </tr>\n",
       "    <tr>\n",
       "      <th>2</th>\n",
       "      <td>2014-01-01 00:00:35</td>\n",
       "      <td>4b912f490ddc1f289f35def68a1662bcc5089a1a</td>\n",
       "      <td>Bldg48AP65</td>\n",
       "      <td>35.0</td>\n",
       "      <td>2</td>\n",
       "    </tr>\n",
       "    <tr>\n",
       "      <th>3</th>\n",
       "      <td>2014-01-01 00:00:40</td>\n",
       "      <td>8e10f9d5aa9c229baae2f745abd25b9c9522ed64</td>\n",
       "      <td>Bldg25AP19</td>\n",
       "      <td>40.0</td>\n",
       "      <td>3</td>\n",
       "    </tr>\n",
       "    <tr>\n",
       "      <th>4</th>\n",
       "      <td>2014-01-01 00:00:51</td>\n",
       "      <td>680fc4c2bd6b252fd6e1a67ad7aa69cdbd3d6e0f</td>\n",
       "      <td>Bldg25AP5</td>\n",
       "      <td>51.0</td>\n",
       "      <td>4</td>\n",
       "    </tr>\n",
       "    <tr>\n",
       "      <th>...</th>\n",
       "      <td>...</td>\n",
       "      <td>...</td>\n",
       "      <td>...</td>\n",
       "      <td>...</td>\n",
       "      <td>...</td>\n",
       "    </tr>\n",
       "    <tr>\n",
       "      <th>12724</th>\n",
       "      <td>2014-01-01 23:58:36</td>\n",
       "      <td>34a2fe9462c797cfc9916b7aa84bbe4a7b42327a</td>\n",
       "      <td>Bldg44AP15</td>\n",
       "      <td>86316.0</td>\n",
       "      <td>423</td>\n",
       "    </tr>\n",
       "    <tr>\n",
       "      <th>12725</th>\n",
       "      <td>2014-01-01 23:59:03</td>\n",
       "      <td>ec438383187d2fb4a00d4d7cd235494729d05198</td>\n",
       "      <td>Bldg44AP4</td>\n",
       "      <td>86343.0</td>\n",
       "      <td>42</td>\n",
       "    </tr>\n",
       "    <tr>\n",
       "      <th>12726</th>\n",
       "      <td>2014-01-01 23:59:14</td>\n",
       "      <td>2a9553acf404141b23ce2361d2d58e0ae7b72bb4</td>\n",
       "      <td>Bldg44AP64</td>\n",
       "      <td>86354.0</td>\n",
       "      <td>33</td>\n",
       "    </tr>\n",
       "    <tr>\n",
       "      <th>12727</th>\n",
       "      <td>2014-01-01 23:59:35</td>\n",
       "      <td>ca2a3933771ce90b5368dfdb95d1959f66fe0150</td>\n",
       "      <td>Bldg14AP12</td>\n",
       "      <td>86375.0</td>\n",
       "      <td>85</td>\n",
       "    </tr>\n",
       "    <tr>\n",
       "      <th>12728</th>\n",
       "      <td>2014-01-01 23:59:53</td>\n",
       "      <td>34a2fe9462c797cfc9916b7aa84bbe4a7b42327a</td>\n",
       "      <td>Bldg48AP41</td>\n",
       "      <td>86393.0</td>\n",
       "      <td>423</td>\n",
       "    </tr>\n",
       "  </tbody>\n",
       "</table>\n",
       "<p>12729 rows × 5 columns</p>\n",
       "</div>"
      ],
      "text/plain": [
       "                 timestamp                                    client  \\\n",
       "0      2014-01-01 00:00:24  b7f22f3abd9f367af65bd70b4b328e0c35f7cfac   \n",
       "1      2014-01-01 00:00:30  336501aeaedff0462f3cd55089fa433dbbfff493   \n",
       "2      2014-01-01 00:00:35  4b912f490ddc1f289f35def68a1662bcc5089a1a   \n",
       "3      2014-01-01 00:00:40  8e10f9d5aa9c229baae2f745abd25b9c9522ed64   \n",
       "4      2014-01-01 00:00:51  680fc4c2bd6b252fd6e1a67ad7aa69cdbd3d6e0f   \n",
       "...                    ...                                       ...   \n",
       "12724  2014-01-01 23:58:36  34a2fe9462c797cfc9916b7aa84bbe4a7b42327a   \n",
       "12725  2014-01-01 23:59:03  ec438383187d2fb4a00d4d7cd235494729d05198   \n",
       "12726  2014-01-01 23:59:14  2a9553acf404141b23ce2361d2d58e0ae7b72bb4   \n",
       "12727  2014-01-01 23:59:35  ca2a3933771ce90b5368dfdb95d1959f66fe0150   \n",
       "12728  2014-01-01 23:59:53  34a2fe9462c797cfc9916b7aa84bbe4a7b42327a   \n",
       "\n",
       "               AP      sec   ID  \n",
       "0      Bldg11AP21     24.0    0  \n",
       "1       Bldg44AP3     30.0    1  \n",
       "2      Bldg48AP65     35.0    2  \n",
       "3      Bldg25AP19     40.0    3  \n",
       "4       Bldg25AP5     51.0    4  \n",
       "...           ...      ...  ...  \n",
       "12724  Bldg44AP15  86316.0  423  \n",
       "12725   Bldg44AP4  86343.0   42  \n",
       "12726  Bldg44AP64  86354.0   33  \n",
       "12727  Bldg14AP12  86375.0   85  \n",
       "12728  Bldg48AP41  86393.0  423  \n",
       "\n",
       "[12729 rows x 5 columns]"
      ]
     },
     "execution_count": 5,
     "metadata": {},
     "output_type": "execute_result"
    }
   ],
   "source": [
    "df"
   ]
  },
  {
   "cell_type": "markdown",
   "metadata": {},
   "source": [
    "## AP -> AP_ID\n",
    "\n",
    "다루기 쉽게 string으로 된 아이디를 숫자로 변환"
   ]
  },
  {
   "cell_type": "code",
   "execution_count": null,
   "metadata": {},
   "outputs": [],
   "source": [
    "df = pd.read_csv(\"traceset1/APlocations.csv\")\n",
    "df = df.fillna(0).astype({\"floor\":\"int64\"})\n",
    "df[\"AP_ID\"] = df.index\n",
    "df.to_csv(\"traceset1/APlocations.csv\", index=False)"
   ]
  },
  {
   "cell_type": "markdown",
   "metadata": {},
   "source": [
    "## Access Point\n",
    "\n",
    "ID로 저장된 Access Point를 x,y좌표가 적힌 텍스트 파일을 이용해 통합"
   ]
  },
  {
   "cell_type": "code",
   "execution_count": null,
   "metadata": {},
   "outputs": [],
   "source": [
    "#at preprocessing.py - add_location(df)"
   ]
  }
 ],
 "metadata": {
  "colab": {
   "name": "capstone.ipynb",
   "provenance": []
  },
  "kernelspec": {
   "display_name": "Python 3",
   "language": "python",
   "name": "python3"
  },
  "language_info": {
   "codemirror_mode": {
    "name": "ipython",
    "version": 3
   },
   "file_extension": ".py",
   "mimetype": "text/x-python",
   "name": "python",
   "nbconvert_exporter": "python",
   "pygments_lexer": "ipython3",
   "version": "3.7.4"
  }
 },
 "nbformat": 4,
 "nbformat_minor": 1
}
