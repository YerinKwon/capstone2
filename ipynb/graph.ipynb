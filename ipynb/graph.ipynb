{
 "cells": [
  {
   "cell_type": "code",
   "execution_count": 1,
   "metadata": {},
   "outputs": [],
   "source": [
    "import pandas as pd\n",
    "import matplotlib.pyplot as plt"
   ]
  },
  {
   "cell_type": "code",
   "execution_count": 65,
   "metadata": {},
   "outputs": [
    {
     "name": "stdout",
     "output_type": "stream",
     "text": [
      "<class 'pandas.core.frame.DataFrame'>\n",
      "RangeIndex: 259201 entries, 0 to 259200\n",
      "Data columns (total 3 columns):\n",
      " #   Column    Non-Null Count   Dtype  \n",
      "---  ------    --------------   -----  \n",
      " 0   dc_def    259201 non-null  int64  \n",
      " 1   dc_cur    259201 non-null  float64\n",
      " 2   detected  259201 non-null  int64  \n",
      "dtypes: float64(1), int64(2)\n",
      "memory usage: 5.9 MB\n"
     ]
    }
   ],
   "source": [
    "log = pd.read_csv(\"../graph.csv\",names=[\"dc_def\",\"dc_cur\",\"detected\"])\n",
    "log.info()"
   ]
  },
  {
   "cell_type": "code",
   "execution_count": 90,
   "metadata": {},
   "outputs": [],
   "source": [
    "def fig_generator(x,detect):\n",
    "    plt.figure(1, figsize = (20,5))\n",
    "    plt.plot(log['dc_cur'][x:x+10000])\n",
    "    plt.plot(log['dc_def'][x:x+10000])\n",
    "    if detect:\n",
    "        plt.plot(log['dc_cur'][x:x+10000][log['detected']==1], 'ro')\n",
    "\n",
    "    plt.xlabel('time')\n",
    "    plt.ylabel('duty cycle')\n",
    "    plt.legend(['dc_cur','dc_def'])\n",
    "    axes = plt.gca()\n",
    "    axes.set_ylim([0,22])\n",
    "    if detect:\n",
    "        plt.savefig('figs_detected/fig'+str(x)+'.png')\n",
    "    else:\n",
    "        plt.savefig('figs/fig'+str(x)+'.png')\n",
    "    plt.clf()"
   ]
  },
  {
   "cell_type": "code",
   "execution_count": 95,
   "metadata": {},
   "outputs": [
    {
     "data": {
      "text/plain": [
       "<Figure size 1440x360 with 0 Axes>"
      ]
     },
     "metadata": {},
     "output_type": "display_data"
    }
   ],
   "source": [
    "for i in range(0,259000,1000):\n",
    "    fig_generator(i,True)\n",
    "    fig_generator(i,False)"
   ]
  },
  {
   "cell_type": "code",
   "execution_count": 91,
   "metadata": {},
   "outputs": [
    {
     "data": {
      "text/plain": [
       "<Figure size 1440x360 with 0 Axes>"
      ]
     },
     "metadata": {},
     "output_type": "display_data"
    }
   ],
   "source": [
    "fig_generator(150000,True)\n",
    "fig_generator(151000,True)\n",
    "fig_generator(152000,True)"
   ]
  }
 ],
 "metadata": {
  "kernelspec": {
   "display_name": "Python 3",
   "language": "python",
   "name": "python3"
  },
  "language_info": {
   "codemirror_mode": {
    "name": "ipython",
    "version": 3
   },
   "file_extension": ".py",
   "mimetype": "text/x-python",
   "name": "python",
   "nbconvert_exporter": "python",
   "pygments_lexer": "ipython3",
   "version": "3.7.4"
  }
 },
 "nbformat": 4,
 "nbformat_minor": 4
}
