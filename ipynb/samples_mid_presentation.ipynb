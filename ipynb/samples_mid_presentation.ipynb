{
 "cells": [
  {
   "cell_type": "code",
   "execution_count": 1,
   "metadata": {},
   "outputs": [],
   "source": [
    "import pandas as pd"
   ]
  },
  {
   "cell_type": "code",
   "execution_count": 2,
   "metadata": {},
   "outputs": [],
   "source": [
    "original = pd.read_csv('../data/trace_original/2014_07.csv')\n",
    "APlocations = pd.read_csv('../data/traceset1/APlocations.csv')\n",
    "preprocessed = pd.read_csv('../data/trace_by_ID/19.csv')"
   ]
  },
  {
   "cell_type": "code",
   "execution_count": 3,
   "metadata": {},
   "outputs": [
    {
     "data": {
      "text/html": [
       "<div>\n",
       "<style scoped>\n",
       "    .dataframe tbody tr th:only-of-type {\n",
       "        vertical-align: middle;\n",
       "    }\n",
       "\n",
       "    .dataframe tbody tr th {\n",
       "        vertical-align: top;\n",
       "    }\n",
       "\n",
       "    .dataframe thead th {\n",
       "        text-align: right;\n",
       "    }\n",
       "</style>\n",
       "<table border=\"1\" class=\"dataframe\">\n",
       "  <thead>\n",
       "    <tr style=\"text-align: right;\">\n",
       "      <th></th>\n",
       "      <th>timestamp</th>\n",
       "      <th>client</th>\n",
       "      <th>AP</th>\n",
       "    </tr>\n",
       "  </thead>\n",
       "  <tbody>\n",
       "    <tr>\n",
       "      <th>0</th>\n",
       "      <td>2014-07-01 00:00:00</td>\n",
       "      <td>f64443953de139ed7f06f8499de48d892d9d1a9c</td>\n",
       "      <td>Bldg23AP20</td>\n",
       "    </tr>\n",
       "    <tr>\n",
       "      <th>1</th>\n",
       "      <td>2014-07-01 00:00:03</td>\n",
       "      <td>a3a70736a03d6e74599d334d5f7a81ee84d0ffdd</td>\n",
       "      <td>Bldg46AP16</td>\n",
       "    </tr>\n",
       "    <tr>\n",
       "      <th>2</th>\n",
       "      <td>2014-07-01 00:00:05</td>\n",
       "      <td>b83a4f6bca9b6df3993fa49903c34eaa76fbc8b5</td>\n",
       "      <td>Bldg11AP14</td>\n",
       "    </tr>\n",
       "    <tr>\n",
       "      <th>3</th>\n",
       "      <td>2014-07-01 00:00:10</td>\n",
       "      <td>e46ebcb72cdedbe6daa4de7ddac1252ff4d946db</td>\n",
       "      <td>Bldg4AP11</td>\n",
       "    </tr>\n",
       "    <tr>\n",
       "      <th>4</th>\n",
       "      <td>2014-07-01 00:00:11</td>\n",
       "      <td>a4c3999bb38fb833672dc9f0b7213e1e9b80e473</td>\n",
       "      <td>Bldg4AP11</td>\n",
       "    </tr>\n",
       "  </tbody>\n",
       "</table>\n",
       "</div>"
      ],
      "text/plain": [
       "             timestamp                                    client          AP\n",
       "0  2014-07-01 00:00:00  f64443953de139ed7f06f8499de48d892d9d1a9c  Bldg23AP20\n",
       "1  2014-07-01 00:00:03  a3a70736a03d6e74599d334d5f7a81ee84d0ffdd  Bldg46AP16\n",
       "2  2014-07-01 00:00:05  b83a4f6bca9b6df3993fa49903c34eaa76fbc8b5  Bldg11AP14\n",
       "3  2014-07-01 00:00:10  e46ebcb72cdedbe6daa4de7ddac1252ff4d946db   Bldg4AP11\n",
       "4  2014-07-01 00:00:11  a4c3999bb38fb833672dc9f0b7213e1e9b80e473   Bldg4AP11"
      ]
     },
     "execution_count": 3,
     "metadata": {},
     "output_type": "execute_result"
    }
   ],
   "source": [
    "original[:5]"
   ]
  },
  {
   "cell_type": "code",
   "execution_count": 4,
   "metadata": {},
   "outputs": [
    {
     "data": {
      "text/html": [
       "<div>\n",
       "<style scoped>\n",
       "    .dataframe tbody tr th:only-of-type {\n",
       "        vertical-align: middle;\n",
       "    }\n",
       "\n",
       "    .dataframe tbody tr th {\n",
       "        vertical-align: top;\n",
       "    }\n",
       "\n",
       "    .dataframe thead th {\n",
       "        text-align: right;\n",
       "    }\n",
       "</style>\n",
       "<table border=\"1\" class=\"dataframe\">\n",
       "  <thead>\n",
       "    <tr style=\"text-align: right;\">\n",
       "      <th></th>\n",
       "      <th>AP</th>\n",
       "      <th>x_coordinate(m)</th>\n",
       "      <th>y_coordinate(m)</th>\n",
       "      <th>floor</th>\n",
       "      <th>AP_ID</th>\n",
       "    </tr>\n",
       "  </thead>\n",
       "  <tbody>\n",
       "    <tr>\n",
       "      <th>0</th>\n",
       "      <td>Bldg1AP1</td>\n",
       "      <td>21534</td>\n",
       "      <td>32313</td>\n",
       "      <td>2</td>\n",
       "      <td>0</td>\n",
       "    </tr>\n",
       "    <tr>\n",
       "      <th>1</th>\n",
       "      <td>Bldg1AP2</td>\n",
       "      <td>21534</td>\n",
       "      <td>32313</td>\n",
       "      <td>2</td>\n",
       "      <td>1</td>\n",
       "    </tr>\n",
       "    <tr>\n",
       "      <th>2</th>\n",
       "      <td>Bldg1AP3</td>\n",
       "      <td>21534</td>\n",
       "      <td>32313</td>\n",
       "      <td>3</td>\n",
       "      <td>2</td>\n",
       "    </tr>\n",
       "    <tr>\n",
       "      <th>3</th>\n",
       "      <td>Bldg1AP4</td>\n",
       "      <td>21534</td>\n",
       "      <td>32313</td>\n",
       "      <td>3</td>\n",
       "      <td>3</td>\n",
       "    </tr>\n",
       "    <tr>\n",
       "      <th>4</th>\n",
       "      <td>Bldg1AP5</td>\n",
       "      <td>21534</td>\n",
       "      <td>32313</td>\n",
       "      <td>4</td>\n",
       "      <td>4</td>\n",
       "    </tr>\n",
       "  </tbody>\n",
       "</table>\n",
       "</div>"
      ],
      "text/plain": [
       "         AP  x_coordinate(m)  y_coordinate(m)  floor  AP_ID\n",
       "0  Bldg1AP1            21534            32313      2      0\n",
       "1  Bldg1AP2            21534            32313      2      1\n",
       "2  Bldg1AP3            21534            32313      3      2\n",
       "3  Bldg1AP4            21534            32313      3      3\n",
       "4  Bldg1AP5            21534            32313      4      4"
      ]
     },
     "execution_count": 4,
     "metadata": {},
     "output_type": "execute_result"
    }
   ],
   "source": [
    "APlocations[:5]"
   ]
  },
  {
   "cell_type": "code",
   "execution_count": 5,
   "metadata": {},
   "outputs": [
    {
     "data": {
      "text/html": [
       "<div>\n",
       "<style scoped>\n",
       "    .dataframe tbody tr th:only-of-type {\n",
       "        vertical-align: middle;\n",
       "    }\n",
       "\n",
       "    .dataframe tbody tr th {\n",
       "        vertical-align: top;\n",
       "    }\n",
       "\n",
       "    .dataframe thead th {\n",
       "        text-align: right;\n",
       "    }\n",
       "</style>\n",
       "<table border=\"1\" class=\"dataframe\">\n",
       "  <thead>\n",
       "    <tr style=\"text-align: right;\">\n",
       "      <th></th>\n",
       "      <th>sec</th>\n",
       "      <th>ID</th>\n",
       "      <th>x_coordinate(m)</th>\n",
       "      <th>y_coordinate(m)</th>\n",
       "      <th>AP_ID</th>\n",
       "    </tr>\n",
       "  </thead>\n",
       "  <tbody>\n",
       "    <tr>\n",
       "      <th>0</th>\n",
       "      <td>219</td>\n",
       "      <td>19</td>\n",
       "      <td>14356</td>\n",
       "      <td>39196</td>\n",
       "      <td>1066</td>\n",
       "    </tr>\n",
       "    <tr>\n",
       "      <th>1</th>\n",
       "      <td>388</td>\n",
       "      <td>19</td>\n",
       "      <td>14356</td>\n",
       "      <td>39196</td>\n",
       "      <td>1082</td>\n",
       "    </tr>\n",
       "    <tr>\n",
       "      <th>2</th>\n",
       "      <td>780</td>\n",
       "      <td>19</td>\n",
       "      <td>14356</td>\n",
       "      <td>39196</td>\n",
       "      <td>1082</td>\n",
       "    </tr>\n",
       "    <tr>\n",
       "      <th>3</th>\n",
       "      <td>1392</td>\n",
       "      <td>19</td>\n",
       "      <td>14356</td>\n",
       "      <td>39196</td>\n",
       "      <td>1082</td>\n",
       "    </tr>\n",
       "    <tr>\n",
       "      <th>4</th>\n",
       "      <td>1584</td>\n",
       "      <td>19</td>\n",
       "      <td>14356</td>\n",
       "      <td>39196</td>\n",
       "      <td>1082</td>\n",
       "    </tr>\n",
       "  </tbody>\n",
       "</table>\n",
       "</div>"
      ],
      "text/plain": [
       "    sec  ID  x_coordinate(m)  y_coordinate(m)  AP_ID\n",
       "0   219  19            14356            39196   1066\n",
       "1   388  19            14356            39196   1082\n",
       "2   780  19            14356            39196   1082\n",
       "3  1392  19            14356            39196   1082\n",
       "4  1584  19            14356            39196   1082"
      ]
     },
     "execution_count": 5,
     "metadata": {},
     "output_type": "execute_result"
    }
   ],
   "source": [
    "preprocessed[:5]"
   ]
  },
  {
   "cell_type": "code",
   "execution_count": 22,
   "metadata": {},
   "outputs": [],
   "source": [
    "preprocessed = pd.read_csv('../data/new_trace_by_ID/62767.csv',delimiter='\\t',names=['sec','AP_id','x','y','date','CL_id'])"
   ]
  },
  {
   "cell_type": "code",
   "execution_count": 23,
   "metadata": {},
   "outputs": [
    {
     "data": {
      "text/html": [
       "<div>\n",
       "<style scoped>\n",
       "    .dataframe tbody tr th:only-of-type {\n",
       "        vertical-align: middle;\n",
       "    }\n",
       "\n",
       "    .dataframe tbody tr th {\n",
       "        vertical-align: top;\n",
       "    }\n",
       "\n",
       "    .dataframe thead th {\n",
       "        text-align: right;\n",
       "    }\n",
       "</style>\n",
       "<table border=\"1\" class=\"dataframe\">\n",
       "  <thead>\n",
       "    <tr style=\"text-align: right;\">\n",
       "      <th></th>\n",
       "      <th>sec</th>\n",
       "      <th>AP_id</th>\n",
       "      <th>x</th>\n",
       "      <th>y</th>\n",
       "      <th>date</th>\n",
       "      <th>CL_id</th>\n",
       "    </tr>\n",
       "  </thead>\n",
       "  <tbody>\n",
       "    <tr>\n",
       "      <th>0</th>\n",
       "      <td>48230</td>\n",
       "      <td>69</td>\n",
       "      <td>21804</td>\n",
       "      <td>32683</td>\n",
       "      <td>2014-09-01</td>\n",
       "      <td>62767</td>\n",
       "    </tr>\n",
       "    <tr>\n",
       "      <th>1</th>\n",
       "      <td>50029</td>\n",
       "      <td>69</td>\n",
       "      <td>21804</td>\n",
       "      <td>32683</td>\n",
       "      <td>2014-09-01</td>\n",
       "      <td>62767</td>\n",
       "    </tr>\n",
       "    <tr>\n",
       "      <th>2</th>\n",
       "      <td>51819</td>\n",
       "      <td>69</td>\n",
       "      <td>21804</td>\n",
       "      <td>32683</td>\n",
       "      <td>2014-09-01</td>\n",
       "      <td>62767</td>\n",
       "    </tr>\n",
       "    <tr>\n",
       "      <th>3</th>\n",
       "      <td>53619</td>\n",
       "      <td>69</td>\n",
       "      <td>21804</td>\n",
       "      <td>32683</td>\n",
       "      <td>2014-09-01</td>\n",
       "      <td>62767</td>\n",
       "    </tr>\n",
       "    <tr>\n",
       "      <th>4</th>\n",
       "      <td>54044</td>\n",
       "      <td>184</td>\n",
       "      <td>21836</td>\n",
       "      <td>32737</td>\n",
       "      <td>2014-09-01</td>\n",
       "      <td>62767</td>\n",
       "    </tr>\n",
       "    <tr>\n",
       "      <th>5</th>\n",
       "      <td>54096</td>\n",
       "      <td>57</td>\n",
       "      <td>21804</td>\n",
       "      <td>32683</td>\n",
       "      <td>2014-09-01</td>\n",
       "      <td>62767</td>\n",
       "    </tr>\n",
       "    <tr>\n",
       "      <th>6</th>\n",
       "      <td>54173</td>\n",
       "      <td>58</td>\n",
       "      <td>21804</td>\n",
       "      <td>32683</td>\n",
       "      <td>2014-09-01</td>\n",
       "      <td>62767</td>\n",
       "    </tr>\n",
       "    <tr>\n",
       "      <th>7</th>\n",
       "      <td>54276</td>\n",
       "      <td>170</td>\n",
       "      <td>21804</td>\n",
       "      <td>32683</td>\n",
       "      <td>2014-09-01</td>\n",
       "      <td>62767</td>\n",
       "    </tr>\n",
       "    <tr>\n",
       "      <th>8</th>\n",
       "      <td>54282</td>\n",
       "      <td>76</td>\n",
       "      <td>21728</td>\n",
       "      <td>32711</td>\n",
       "      <td>2014-09-01</td>\n",
       "      <td>62767</td>\n",
       "    </tr>\n",
       "    <tr>\n",
       "      <th>9</th>\n",
       "      <td>54305</td>\n",
       "      <td>62</td>\n",
       "      <td>21728</td>\n",
       "      <td>32711</td>\n",
       "      <td>2014-09-01</td>\n",
       "      <td>62767</td>\n",
       "    </tr>\n",
       "    <tr>\n",
       "      <th>10</th>\n",
       "      <td>33943</td>\n",
       "      <td>70</td>\n",
       "      <td>21804</td>\n",
       "      <td>32683</td>\n",
       "      <td>2014-09-02</td>\n",
       "      <td>62767</td>\n",
       "    </tr>\n",
       "    <tr>\n",
       "      <th>11</th>\n",
       "      <td>33945</td>\n",
       "      <td>70</td>\n",
       "      <td>21804</td>\n",
       "      <td>32683</td>\n",
       "      <td>2014-09-02</td>\n",
       "      <td>62767</td>\n",
       "    </tr>\n",
       "    <tr>\n",
       "      <th>12</th>\n",
       "      <td>34025</td>\n",
       "      <td>71</td>\n",
       "      <td>21804</td>\n",
       "      <td>32683</td>\n",
       "      <td>2014-09-02</td>\n",
       "      <td>62767</td>\n",
       "    </tr>\n",
       "    <tr>\n",
       "      <th>13</th>\n",
       "      <td>34034</td>\n",
       "      <td>184</td>\n",
       "      <td>21836</td>\n",
       "      <td>32737</td>\n",
       "      <td>2014-09-02</td>\n",
       "      <td>62767</td>\n",
       "    </tr>\n",
       "    <tr>\n",
       "      <th>14</th>\n",
       "      <td>34036</td>\n",
       "      <td>71</td>\n",
       "      <td>21804</td>\n",
       "      <td>32683</td>\n",
       "      <td>2014-09-02</td>\n",
       "      <td>62767</td>\n",
       "    </tr>\n",
       "  </tbody>\n",
       "</table>\n",
       "</div>"
      ],
      "text/plain": [
       "      sec  AP_id      x      y        date  CL_id\n",
       "0   48230     69  21804  32683  2014-09-01  62767\n",
       "1   50029     69  21804  32683  2014-09-01  62767\n",
       "2   51819     69  21804  32683  2014-09-01  62767\n",
       "3   53619     69  21804  32683  2014-09-01  62767\n",
       "4   54044    184  21836  32737  2014-09-01  62767\n",
       "5   54096     57  21804  32683  2014-09-01  62767\n",
       "6   54173     58  21804  32683  2014-09-01  62767\n",
       "7   54276    170  21804  32683  2014-09-01  62767\n",
       "8   54282     76  21728  32711  2014-09-01  62767\n",
       "9   54305     62  21728  32711  2014-09-01  62767\n",
       "10  33943     70  21804  32683  2014-09-02  62767\n",
       "11  33945     70  21804  32683  2014-09-02  62767\n",
       "12  34025     71  21804  32683  2014-09-02  62767\n",
       "13  34034    184  21836  32737  2014-09-02  62767\n",
       "14  34036     71  21804  32683  2014-09-02  62767"
      ]
     },
     "execution_count": 23,
     "metadata": {},
     "output_type": "execute_result"
    }
   ],
   "source": [
    "preprocessed[:15]"
   ]
  },
  {
   "cell_type": "code",
   "execution_count": 24,
   "metadata": {},
   "outputs": [],
   "source": [
    "import neighborDiscovery\n",
    "import queue\n",
    "import numpy as np"
   ]
  },
  {
   "cell_type": "code",
   "execution_count": 56,
   "metadata": {},
   "outputs": [],
   "source": [
    "nd = neighborDiscovery.neighborDiscovery()\n",
    "storage = queue.Queue()"
   ]
  },
  {
   "cell_type": "code",
   "execution_count": 58,
   "metadata": {},
   "outputs": [],
   "source": [
    "for i in range(80,160):\n",
    "    storage.put(preprocessed.iloc[i,0])"
   ]
  },
  {
   "cell_type": "code",
   "execution_count": 59,
   "metadata": {},
   "outputs": [
    {
     "data": {
      "text/plain": [
       "80"
      ]
     },
     "execution_count": 59,
     "metadata": {},
     "output_type": "execute_result"
    }
   ],
   "source": [
    "storage.qsize()"
   ]
  },
  {
   "cell_type": "code",
   "execution_count": 41,
   "metadata": {},
   "outputs": [
    {
     "name": "stdout",
     "output_type": "stream",
     "text": [
      "48230\n",
      "50029\n",
      "51819\n",
      "53619\n",
      "54044\n",
      "54096\n",
      "54173\n",
      "54276\n",
      "54282\n",
      "54305\n",
      "33943\n",
      "33945\n",
      "34025\n",
      "34034\n",
      "34036\n",
      "34193\n",
      "34202\n",
      "34212\n",
      "34400\n",
      "34410\n",
      "34419\n",
      "34428\n",
      "34608\n",
      "34617\n",
      "34627\n",
      "34711\n",
      "34720\n",
      "34729\n",
      "34739\n",
      "34779\n"
     ]
    }
   ],
   "source": [
    "for i in range(storage.qsize()):\n",
    "    a = storage.get()\n",
    "    print(a)\n",
    "    storage.put(a)"
   ]
  },
  {
   "cell_type": "code",
   "execution_count": 60,
   "metadata": {},
   "outputs": [],
   "source": [
    "patterns=[]\n",
    "t_list = []\n",
    "qsize = storage.qsize()\n",
    "for i in range(3):\n",
    "    t_list.append(storage.get())\n",
    "\n",
    "for i in range(qsize-3):\n",
    "    patterns.append(np.array(t_list))\n",
    "    storage.put(t_list[0])\n",
    "    t_list = t_list[1:]\n",
    "    t_list.append(storage.get())\n",
    "\n",
    "for i in range(3):\n",
    "    storage.put(t_list[i])\n",
    "\n",
    "patterns.append(np.array(t_list))"
   ]
  },
  {
   "cell_type": "code",
   "execution_count": 52,
   "metadata": {},
   "outputs": [
    {
     "data": {
      "text/plain": [
       "[37263, 37509, 37594]"
      ]
     },
     "execution_count": 52,
     "metadata": {},
     "output_type": "execute_result"
    }
   ],
   "source": [
    "t_list"
   ]
  },
  {
   "cell_type": "code",
   "execution_count": 61,
   "metadata": {},
   "outputs": [
    {
     "data": {
      "text/plain": [
       "[array([37665, 37758, 37762]),\n",
       " array([37758, 37762, 37772]),\n",
       " array([37762, 37772, 37781]),\n",
       " array([37772, 37781, 37821]),\n",
       " array([37781, 37821, 37861]),\n",
       " array([37821, 37861, 37870]),\n",
       " array([37861, 37870, 37879]),\n",
       " array([37870, 37879, 37919]),\n",
       " array([37879, 37919, 37928]),\n",
       " array([37919, 37928, 37947]),\n",
       " array([37928, 37947, 37966]),\n",
       " array([37947, 37966, 37987]),\n",
       " array([37966, 37987, 37996]),\n",
       " array([37987, 37996, 38006]),\n",
       " array([37996, 38006, 38046]),\n",
       " array([38006, 38046, 38055]),\n",
       " array([38046, 38055, 38095]),\n",
       " array([38055, 38095, 38135]),\n",
       " array([38095, 38135, 38230]),\n",
       " array([38135, 38230, 38239]),\n",
       " array([38230, 38239, 38245]),\n",
       " array([38239, 38245, 38249]),\n",
       " array([38245, 38249, 38259]),\n",
       " array([38249, 38259, 38810]),\n",
       " array([38259, 38810, 38991]),\n",
       " array([38810, 38991, 39001]),\n",
       " array([38991, 39001, 39002]),\n",
       " array([39001, 39002, 39011]),\n",
       " array([39002, 39011, 39021]),\n",
       " array([39011, 39021, 39102]),\n",
       " array([39021, 39102, 39204]),\n",
       " array([39102, 39204, 39244]),\n",
       " array([39204, 39244, 39408]),\n",
       " array([39244, 39408, 39461]),\n",
       " array([39408, 39461, 39501]),\n",
       " array([39461, 39501, 39511]),\n",
       " array([39501, 39511, 39530]),\n",
       " array([39511, 39530, 39532]),\n",
       " array([39530, 39532, 39633]),\n",
       " array([39532, 39633, 39643]),\n",
       " array([39633, 39643, 39664]),\n",
       " array([39643, 39664, 39808]),\n",
       " array([39664, 39808, 39817]),\n",
       " array([39808, 39817, 39826]),\n",
       " array([39817, 39826, 39836]),\n",
       " array([39826, 39836, 39866]),\n",
       " array([39836, 39866, 39925]),\n",
       " array([39866, 39925, 40126]),\n",
       " array([39925, 40126, 40179]),\n",
       " array([40126, 40179, 40219]),\n",
       " array([40179, 40219, 40228]),\n",
       " array([40219, 40228, 40243]),\n",
       " array([40228, 40243, 40259]),\n",
       " array([40243, 40259, 40262]),\n",
       " array([40259, 40262, 40371]),\n",
       " array([40262, 40371, 40408]),\n",
       " array([40371, 40408, 40413]),\n",
       " array([40408, 40413, 40423]),\n",
       " array([40413, 40423, 40442]),\n",
       " array([40423, 40442, 40461]),\n",
       " array([40442, 40461, 40532]),\n",
       " array([40461, 40532, 40579]),\n",
       " array([40532, 40579, 40598]),\n",
       " array([40579, 40598, 40640]),\n",
       " array([40598, 40640, 40814]),\n",
       " array([40640, 40814, 40862]),\n",
       " array([40814, 40862, 40877]),\n",
       " array([40862, 40877, 40904]),\n",
       " array([40877, 40904, 41041]),\n",
       " array([40904, 41041, 41050]),\n",
       " array([41041, 41050, 41060]),\n",
       " array([41050, 41060, 41079]),\n",
       " array([41060, 41079, 41088]),\n",
       " array([41079, 41088, 41097]),\n",
       " array([41088, 41097, 41107]),\n",
       " array([41097, 41107, 41116]),\n",
       " array([41107, 41116, 41140]),\n",
       " array([41116, 41140, 41149])]"
      ]
     },
     "execution_count": 61,
     "metadata": {},
     "output_type": "execute_result"
    }
   ],
   "source": [
    "patterns"
   ]
  },
  {
   "cell_type": "code",
   "execution_count": 66,
   "metadata": {},
   "outputs": [],
   "source": [
    "predicted = nd.ContactPrediction(storage, 0.3)"
   ]
  },
  {
   "cell_type": "code",
   "execution_count": 67,
   "metadata": {},
   "outputs": [
    {
     "data": {
      "text/plain": [
       "[41102.0]"
      ]
     },
     "execution_count": 67,
     "metadata": {},
     "output_type": "execute_result"
    }
   ],
   "source": [
    "predicted"
   ]
  },
  {
   "cell_type": "code",
   "execution_count": null,
   "metadata": {},
   "outputs": [],
   "source": [
    "#DC_DEF"
   ]
  },
  {
   "cell_type": "code",
   "execution_count": 47,
   "metadata": {},
   "outputs": [
    {
     "name": "stdout",
     "output_type": "stream",
     "text": [
      "1 : 8\n"
     ]
    }
   ],
   "source": [
    "predicted = []\n",
    "case_type, duty_cycle = nd.DutyCycleAdaptation(predicted,34729, 120)\n",
    "print(case_type, \":\",duty_cycle)"
   ]
  },
  {
   "cell_type": "code",
   "execution_count": null,
   "metadata": {},
   "outputs": [],
   "source": [
    "#DC_MAX"
   ]
  },
  {
   "cell_type": "code",
   "execution_count": 50,
   "metadata": {},
   "outputs": [
    {
     "name": "stdout",
     "output_type": "stream",
     "text": [
      "2 : 20.0\n"
     ]
    }
   ],
   "source": [
    "predicted = [34729.0]\n",
    "case_type, duty_cycle = nd.DutyCycleAdaptation(predicted,34729, 120)\n",
    "print(case_type, \":\",duty_cycle)"
   ]
  },
  {
   "cell_type": "code",
   "execution_count": null,
   "metadata": {},
   "outputs": [],
   "source": [
    "#DC_MIN"
   ]
  },
  {
   "cell_type": "code",
   "execution_count": 55,
   "metadata": {},
   "outputs": [
    {
     "name": "stdout",
     "output_type": "stream",
     "text": [
      "4 : 2\n"
     ]
    }
   ],
   "source": [
    "predicted = [34729.0]\n",
    "case_type, duty_cycle = nd.DutyCycleAdaptation(predicted,10000, 1200)\n",
    "print(case_type, \":\",duty_cycle)"
   ]
  },
  {
   "cell_type": "code",
   "execution_count": null,
   "metadata": {},
   "outputs": [],
   "source": [
    "#DC_SEREN"
   ]
  },
  {
   "cell_type": "code",
   "execution_count": 54,
   "metadata": {},
   "outputs": [
    {
     "name": "stdout",
     "output_type": "stream",
     "text": [
      "3 : 8.0\n"
     ]
    }
   ],
   "source": [
    "predicted = [20000, 30000]\n",
    "case_type, duty_cycle = nd.DutyCycleAdaptation(predicted,25000, 5000)\n",
    "print(case_type, \":\",duty_cycle)"
   ]
  },
  {
   "cell_type": "code",
   "execution_count": null,
   "metadata": {},
   "outputs": [],
   "source": []
  },
  {
   "cell_type": "code",
   "execution_count": null,
   "metadata": {},
   "outputs": [],
   "source": []
  }
 ],
 "metadata": {
  "kernelspec": {
   "display_name": "Python 3",
   "language": "python",
   "name": "python3"
  },
  "language_info": {
   "codemirror_mode": {
    "name": "ipython",
    "version": 3
   },
   "file_extension": ".py",
   "mimetype": "text/x-python",
   "name": "python",
   "nbconvert_exporter": "python",
   "pygments_lexer": "ipython3",
   "version": "3.7.4"
  }
 },
 "nbformat": 4,
 "nbformat_minor": 4
}
