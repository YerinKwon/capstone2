{
 "cells": [
  {
   "cell_type": "code",
   "execution_count": 34,
   "metadata": {},
   "outputs": [],
   "source": [
    "import pandas as pd\n",
    "import numpy as np\n",
    "from datetime import datetime\n",
    "import preprocessing as p"
   ]
  },
  {
   "cell_type": "code",
   "execution_count": 6,
   "metadata": {},
   "outputs": [],
   "source": [
    "df1 = pd.read_csv(\"sample/2014_01_01.csv\")\n",
    "df2 = pd.read_csv(\"sample/2014_01_02.csv\")\n",
    "df3 = pd.read_csv(\"sample/2014_01_03.csv\")"
   ]
  },
  {
   "cell_type": "code",
   "execution_count": 7,
   "metadata": {},
   "outputs": [],
   "source": [
    "p.to_sec(df1)\n",
    "p.to_sec(df2)\n",
    "p.to_sec(df3)\n",
    "p.to_ID(df1)\n",
    "p.to_ID(df2)\n",
    "p.to_ID(df3)"
   ]
  },
  {
   "cell_type": "markdown",
   "metadata": {},
   "source": [
    "## ID-agnostic mode"
   ]
  },
  {
   "cell_type": "code",
   "execution_count": 20,
   "metadata": {},
   "outputs": [],
   "source": [
    "l = []\n",
    "l += df1[df1.ID == 1]['sec'].tolist()\n",
    "l += df2[df2.ID == 1]['sec'].tolist()\n",
    "l += df3[df3.ID == 1]['sec'].tolist()"
   ]
  },
  {
   "cell_type": "code",
   "execution_count": 28,
   "metadata": {},
   "outputs": [],
   "source": [
    "l.sort()"
   ]
  },
  {
   "cell_type": "code",
   "execution_count": 57,
   "metadata": {},
   "outputs": [],
   "source": [
    "DIM = 3\n",
    "SIGMA = 5000"
   ]
  },
  {
   "cell_type": "code",
   "execution_count": 43,
   "metadata": {},
   "outputs": [],
   "source": [
    "n_tuples = []\n",
    "for i in range(len(l)-DIM):\n",
    "    n_tuples.append(np.array(l[i:i+DIM]))"
   ]
  },
  {
   "cell_type": "code",
   "execution_count": 44,
   "metadata": {},
   "outputs": [],
   "source": [
    "Tr = n_tuples[-1]\n",
    "#편의상 하루 중 가장 마지막 기록으로 설정함.\n",
    "#추후에 실시간으로 돌릴때에는 최근값으로 다시 설정해야함"
   ]
  },
  {
   "cell_type": "code",
   "execution_count": 58,
   "metadata": {},
   "outputs": [],
   "source": [
    "predicted = []\n",
    "for i,val in enumerate(n_tuples[:-1]):\n",
    "    #maximum norm\n",
    "    if np.linalg.norm(Tr-val, ord = np.inf) < SIGMA:\n",
    "        predicted.append(n_tuples[i+1][0])"
   ]
  },
  {
   "cell_type": "code",
   "execution_count": 59,
   "metadata": {},
   "outputs": [
    {
     "data": {
      "text/plain": [
       "[81021.0, 81021.0, 81259.0, 82808.0, 82811.0, 83035.0]"
      ]
     },
     "execution_count": 59,
     "metadata": {},
     "output_type": "execute_result"
    }
   ],
   "source": [
    "predicted"
   ]
  },
  {
   "cell_type": "markdown",
   "metadata": {},
   "source": [
    "일별 초단위로 계산: 특정 시간대에 대한 특징 반영 가능. 대신 다음날로 넘어가는 부분의 연속성은 파악하기 어렵다"
   ]
  },
  {
   "cell_type": "markdown",
   "metadata": {},
   "source": [
    "## ID-aware mode\n",
    "To be continued.."
   ]
  },
  {
   "cell_type": "code",
   "execution_count": null,
   "metadata": {},
   "outputs": [],
   "source": []
  },
  {
   "cell_type": "code",
   "execution_count": null,
   "metadata": {},
   "outputs": [],
   "source": []
  }
 ],
 "metadata": {
  "kernelspec": {
   "display_name": "Python 3",
   "language": "python",
   "name": "python3"
  },
  "language_info": {
   "codemirror_mode": {
    "name": "ipython",
    "version": 3
   },
   "file_extension": ".py",
   "mimetype": "text/x-python",
   "name": "python",
   "nbconvert_exporter": "python",
   "pygments_lexer": "ipython3",
   "version": "3.7.4"
  }
 },
 "nbformat": 4,
 "nbformat_minor": 4
}
