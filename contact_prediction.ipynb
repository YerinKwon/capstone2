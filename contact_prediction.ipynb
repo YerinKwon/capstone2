{
 "cells": [
  {
   "cell_type": "code",
   "execution_count": 5,
   "metadata": {},
   "outputs": [],
   "source": [
    "import pandas as pd\n",
    "import numpy as np\n",
    "from datetime import datetime\n",
    "import preprocessing as p\n",
    "import math\n",
    "from scipy.stats import norm"
   ]
  },
  {
   "cell_type": "code",
   "execution_count": 6,
   "metadata": {},
   "outputs": [],
   "source": [
    "df1 = pd.read_csv(\"sample/2014_01_01.csv\")\n",
    "df2 = pd.read_csv(\"sample/2014_01_02.csv\")\n",
    "df3 = pd.read_csv(\"sample/2014_01_03.csv\")"
   ]
  },
  {
   "cell_type": "code",
   "execution_count": 7,
   "metadata": {},
   "outputs": [],
   "source": [
    "p.to_sec(df1)\n",
    "p.to_sec(df2)\n",
    "p.to_sec(df3)\n",
    "p.to_ID(df1)\n",
    "p.to_ID(df2)\n",
    "p.to_ID(df3)"
   ]
  },
  {
   "cell_type": "markdown",
   "metadata": {},
   "source": [
    "## Similarity Check\n",
    "### ID-agnostic mode"
   ]
  },
  {
   "cell_type": "code",
   "execution_count": 20,
   "metadata": {},
   "outputs": [],
   "source": [
    "l = []\n",
    "l += df1[df1.ID == 1]['sec'].tolist()\n",
    "l += df2[df2.ID == 1]['sec'].tolist()\n",
    "l += df3[df3.ID == 1]['sec'].tolist()"
   ]
  },
  {
   "cell_type": "code",
   "execution_count": 28,
   "metadata": {},
   "outputs": [],
   "source": [
    "l.sort()"
   ]
  },
  {
   "cell_type": "code",
   "execution_count": 57,
   "metadata": {},
   "outputs": [],
   "source": [
    "DIM = 3\n",
    "\n",
    "#learned by rl\n",
    "SIGMA = 5000"
   ]
  },
  {
   "cell_type": "code",
   "execution_count": 43,
   "metadata": {},
   "outputs": [],
   "source": [
    "n_tuples = []\n",
    "for i in range(len(l)-DIM):\n",
    "    n_tuples.append(np.array(l[i:i+DIM]))"
   ]
  },
  {
   "cell_type": "code",
   "execution_count": 44,
   "metadata": {},
   "outputs": [],
   "source": [
    "Tr = n_tuples[-1]\n",
    "#편의상 하루 중 가장 마지막 기록으로 설정함.\n",
    "#추후에 실시간으로 돌릴때에는 최근값으로 다시 설정해야함"
   ]
  },
  {
   "cell_type": "code",
   "execution_count": 62,
   "metadata": {},
   "outputs": [],
   "source": [
    "predicted = []\n",
    "for i,val in enumerate(n_tuples[:-1]):\n",
    "    #maximum norm\n",
    "    if np.linalg.norm(Tr-val, ord = np.inf) < SIGMA:\n",
    "        predicted.append(n_tuples[i+1][0])"
   ]
  },
  {
   "cell_type": "code",
   "execution_count": null,
   "metadata": {},
   "outputs": [],
   "source": []
  },
  {
   "cell_type": "code",
   "execution_count": 63,
   "metadata": {},
   "outputs": [
    {
     "data": {
      "text/plain": [
       "[81021.0, 81021.0, 81259.0, 82808.0, 82811.0, 83035.0]"
      ]
     },
     "execution_count": 63,
     "metadata": {},
     "output_type": "execute_result"
    }
   ],
   "source": [
    "predicted"
   ]
  },
  {
   "cell_type": "markdown",
   "metadata": {},
   "source": [
    "일별 초단위로 계산: 특정 시간대에 대한 특징 반영 가능. 대신 다음날로 넘어가는 부분의 연속성은 파악하기 어렵다"
   ]
  },
  {
   "cell_type": "markdown",
   "metadata": {},
   "source": [
    "### ID-aware mode\n",
    "To be continued.."
   ]
  },
  {
   "cell_type": "markdown",
   "metadata": {},
   "source": [
    "## Predictions Phase"
   ]
  },
  {
   "cell_type": "code",
   "execution_count": 74,
   "metadata": {},
   "outputs": [],
   "source": [
    "DELTA = 900  #second\n",
    "EPS_prd = 0.3 #ratio"
   ]
  },
  {
   "cell_type": "code",
   "execution_count": 85,
   "metadata": {},
   "outputs": [],
   "source": [
    "R_prd = []\n",
    "tmp = []\n",
    "for i,val in enumerate(predicted[:-1]):\n",
    "    tmp.append(val)\n",
    "    if(predicted[i+1] - val > DELTA):\n",
    "        #separate\n",
    "        if len(tmp)/len(predicted) > EPS_prd:\n",
    "            R_prd.append(np.average(tmp))\n",
    "        tmp = []\n",
    "tmp.append(predicted[-1])\n",
    "if len(tmp)/len(predicted) > EPS_prd:\n",
    "    R_prd.append(np.average(tmp))"
   ]
  },
  {
   "cell_type": "code",
   "execution_count": 86,
   "metadata": {},
   "outputs": [
    {
     "data": {
      "text/plain": [
       "[81100.33333333333, 82884.66666666667]"
      ]
     },
     "execution_count": 86,
     "metadata": {},
     "output_type": "execute_result"
    }
   ],
   "source": [
    "R_prd"
   ]
  },
  {
   "cell_type": "markdown",
   "metadata": {},
   "source": [
    "## Duty Cycle adaptation"
   ]
  },
  {
   "cell_type": "code",
   "execution_count": 3,
   "metadata": {},
   "outputs": [],
   "source": [
    "#persentage\n",
    "DC_MIN = 2\n",
    "DC_MAX = 20\n",
    "DC_DEF = 8\n",
    "\n",
    "#seconds\n",
    "L_PRD = 900\n",
    "L_EXP = 360\n",
    "\n",
    "#standart deviation\n",
    "SIGMA_PRD = L_PRD/math.sqrt(8*math.log(DC_MAX/DC_DEF))\n",
    "SIGMA_EXP = L_EXP/math.sqrt(8*math.log(DC_DEF/DC_MIN))\n",
    "A_PRD = DC_MAX*SIGMA_PRD*math.sqrt(2*math.pi)\n",
    "A_EXP = DC_DEF*SIGMA_EXP*math.sqrt(2*math.pi)\n",
    "\n",
    "#learned by rl\n",
    "GAMMA = 3"
   ]
  },
  {
   "cell_type": "code",
   "execution_count": 7,
   "metadata": {},
   "outputs": [],
   "source": [
    "def Seren(t, t_s, t_e):\n",
    "    n_sub = math.ceil((t_e-t_s)/GAMMA)\n",
    "    if n_sub <= 1:\n",
    "        return 0\n",
    "    R_exp = []\n",
    "    t_exp = 99999 #some big number\n",
    "    for i in range(1,n_sub):\n",
    "        t_tmp = t_s+i*(t_e-t_s)/n_sub\n",
    "#         R_exp.append(t_tmp)\n",
    "        if abs(t-t_exp) > (t-t_tmp):\n",
    "            t_exp = t_tmp\n",
    "    return A_EXP*norm(t_exp, SIGMA_EXP).pdf(t)"
   ]
  },
  {
   "cell_type": "code",
   "execution_count": 8,
   "metadata": {},
   "outputs": [],
   "source": [
    "#Adaptive Duty Cycling\n",
    "def Adaptive_DC(t,t_cur,t_prev,R):\n",
    "    #t: 듀티사이클을 계산하고 있는 시점(추정)\n",
    "    #t_cur: current estimated contact time from R_prd\n",
    "    #t_prev: previous ~~\n",
    "    if R_prd == []:\n",
    "        return DC_DEF\n",
    "    C_prd = A_PRD*norm(t_cur, SIGMA_PRD).pdf(t)\n",
    "    C_exp = Seren(t, t_prev, t_cur)\n",
    "    C = C_prd+C_exp\n",
    "    if C<DC_MIN:\n",
    "        C = DC_MIN\n",
    "    return C\n",
    "    "
   ]
  },
  {
   "cell_type": "code",
   "execution_count": null,
   "metadata": {},
   "outputs": [],
   "source": []
  },
  {
   "cell_type": "code",
   "execution_count": null,
   "metadata": {},
   "outputs": [],
   "source": []
  },
  {
   "cell_type": "code",
   "execution_count": null,
   "metadata": {},
   "outputs": [],
   "source": []
  }
 ],
 "metadata": {
  "kernelspec": {
   "display_name": "Python 3",
   "language": "python",
   "name": "python3"
  },
  "language_info": {
   "codemirror_mode": {
    "name": "ipython",
    "version": 3
   },
   "file_extension": ".py",
   "mimetype": "text/x-python",
   "name": "python",
   "nbconvert_exporter": "python",
   "pygments_lexer": "ipython3",
   "version": "3.7.4"
  }
 },
 "nbformat": 4,
 "nbformat_minor": 4
}
