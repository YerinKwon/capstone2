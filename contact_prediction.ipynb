{
 "cells": [
  {
   "cell_type": "code",
   "execution_count": 1,
   "metadata": {},
   "outputs": [],
   "source": [
    "import pandas as pd\n",
    "import numpy as np\n",
    "from datetime import datetime\n",
    "import preprocessing as p\n",
    "import math\n",
    "from scipy.stats import norm"
   ]
  },
  {
   "cell_type": "code",
   "execution_count": 2,
   "metadata": {},
   "outputs": [],
   "source": [
    "df1 = pd.read_csv(\"sample/2014_01_01.csv\")\n",
    "df2 = pd.read_csv(\"sample/2014_01_02.csv\")\n",
    "df3 = pd.read_csv(\"sample/2014_01_03.csv\")"
   ]
  },
  {
   "cell_type": "code",
   "execution_count": 3,
   "metadata": {},
   "outputs": [],
   "source": [
    "p.to_sec(df1)\n",
    "p.to_sec(df2)\n",
    "p.to_sec(df3)\n",
    "p.to_ID(df1)\n",
    "p.to_ID(df2)\n",
    "p.to_ID(df3)"
   ]
  },
  {
   "cell_type": "markdown",
   "metadata": {},
   "source": [
    "## Similarity Check\n",
    "### ID-agnostic mode"
   ]
  },
  {
   "cell_type": "code",
   "execution_count": 5,
   "metadata": {},
   "outputs": [],
   "source": [
    "l = []\n",
    "l += df1[df1.ID == 1]['sec'].tolist()\n",
    "l += df2[df2.ID == 1]['sec'].tolist()\n",
    "l += df3[df3.ID == 1]['sec'].tolist()"
   ]
  },
  {
   "cell_type": "code",
   "execution_count": 6,
   "metadata": {},
   "outputs": [],
   "source": [
    "l.sort()"
   ]
  },
  {
   "cell_type": "code",
   "execution_count": 9,
   "metadata": {},
   "outputs": [],
   "source": [
    "DIM = 3\n",
    "\n",
    "#learned by rl\n",
    "#가장 많이 차이나는 컬럼(?)이 몇초만큼 차이나는가\n",
    "SIGMA = 5000"
   ]
  },
  {
   "cell_type": "code",
   "execution_count": 10,
   "metadata": {},
   "outputs": [],
   "source": [
    "n_tuples = []\n",
    "for i in range(len(l)-DIM):\n",
    "    n_tuples.append(np.array(l[i:i+DIM]))"
   ]
  },
  {
   "cell_type": "code",
   "execution_count": 11,
   "metadata": {},
   "outputs": [],
   "source": [
    "Tr = n_tuples[-1]\n",
    "#편의상 하루 중 가장 마지막 기록으로 설정함.\n",
    "#추후에 실시간으로 돌릴때에는 최근값으로 다시 설정해야함"
   ]
  },
  {
   "cell_type": "code",
   "execution_count": 13,
   "metadata": {},
   "outputs": [],
   "source": [
    "predicted = []\n",
    "for i,val in enumerate(n_tuples[:-1]):\n",
    "    #maximum norm\n",
    "    if np.linalg.norm(Tr-val, ord = np.inf) < SIGMA:\n",
    "        predicted.append(n_tuples[i+1][0])"
   ]
  },
  {
   "cell_type": "code",
   "execution_count": null,
   "metadata": {},
   "outputs": [],
   "source": []
  },
  {
   "cell_type": "code",
   "execution_count": 14,
   "metadata": {},
   "outputs": [
    {
     "data": {
      "text/plain": [
       "[81021, 81021, 81259, 82808, 82811, 83035]"
      ]
     },
     "execution_count": 14,
     "metadata": {},
     "output_type": "execute_result"
    }
   ],
   "source": [
    "predicted"
   ]
  },
  {
   "cell_type": "markdown",
   "metadata": {},
   "source": [
    "일별 초단위로 계산: 특정 시간대에 대한 특징 반영 가능. 대신 다음날로 넘어가는 부분의 연속성은 파악하기 어렵다"
   ]
  },
  {
   "cell_type": "markdown",
   "metadata": {},
   "source": [
    "### ID-aware mode\n",
    "To be continued.."
   ]
  },
  {
   "cell_type": "markdown",
   "metadata": {},
   "source": [
    "## Predictions Phase"
   ]
  },
  {
   "cell_type": "code",
   "execution_count": 15,
   "metadata": {},
   "outputs": [],
   "source": [
    "DELTA = 900  #second\n",
    "EPS_prd = 0.3 #ratio"
   ]
  },
  {
   "cell_type": "code",
   "execution_count": 16,
   "metadata": {},
   "outputs": [],
   "source": [
    "R_prd = []\n",
    "tmp = []\n",
    "for i,val in enumerate(predicted[:-1]):\n",
    "    tmp.append(val)\n",
    "    if(predicted[i+1] - val > DELTA):\n",
    "        #separate\n",
    "        if len(tmp)/len(predicted) > EPS_prd:\n",
    "            R_prd.append(np.average(tmp))\n",
    "        tmp = []\n",
    "tmp.append(predicted[-1])\n",
    "if len(tmp)/len(predicted) > EPS_prd:\n",
    "    R_prd.append(np.average(tmp))"
   ]
  },
  {
   "cell_type": "code",
   "execution_count": 17,
   "metadata": {},
   "outputs": [
    {
     "data": {
      "text/plain": [
       "[81100.33333333333, 82884.66666666667]"
      ]
     },
     "execution_count": 17,
     "metadata": {},
     "output_type": "execute_result"
    }
   ],
   "source": [
    "R_prd"
   ]
  },
  {
   "cell_type": "markdown",
   "metadata": {},
   "source": [
    "## Duty Cycle adaptation"
   ]
  },
  {
   "cell_type": "code",
   "execution_count": null,
   "metadata": {},
   "outputs": [],
   "source": [
    "#persentage\n",
    "DC_MIN = 2\n",
    "DC_MAX = 20\n",
    "DC_DEF = 8\n",
    "\n",
    "#seconds\n",
    "L_PRD = 900\n",
    "L_EXP = 360\n",
    "\n",
    "#standart deviation\n",
    "SIGMA_PRD = L_PRD/math.sqrt(8*math.log(DC_MAX/DC_DEF))\n",
    "SIGMA_EXP = L_EXP/math.sqrt(8*math.log(DC_DEF/DC_MIN))\n",
    "A_PRD = DC_MAX*SIGMA_PRD*math.sqrt(2*math.pi)\n",
    "A_EXP = DC_DEF*SIGMA_EXP*math.sqrt(2*math.pi)\n",
    "\n",
    "#learned by rl\n",
    "GAMMA = 3"
   ]
  },
  {
   "cell_type": "code",
   "execution_count": null,
   "metadata": {},
   "outputs": [],
   "source": [
    "def Seren(t, t_s, t_e):\n",
    "    n_sub = math.ceil((t_e-t_s)/GAMMA)\n",
    "    if n_sub <= 1:\n",
    "        return 0\n",
    "    R_exp = []\n",
    "    t_exp = 99999 #some big number\n",
    "    for i in range(1,n_sub):\n",
    "        t_tmp = t_s+i*(t_e-t_s)/n_sub\n",
    "#         R_exp.append(t_tmp)\n",
    "        if abs(t-t_exp) > (t-t_tmp):\n",
    "            t_exp = t_tmp\n",
    "    return A_EXP*norm(t_exp, SIGMA_EXP).pdf(t)"
   ]
  },
  {
   "cell_type": "code",
   "execution_count": null,
   "metadata": {},
   "outputs": [],
   "source": [
    "#Adaptive Duty Cycling\n",
    "def Adaptive_DC(t,t_cur,t_prev,R):\n",
    "    #t: 듀티사이클을 계산하고 있는 시점(추정)\n",
    "    #t_cur: current estimated contact time from R_prd\n",
    "    #t_prev: previous ~~\n",
    "    if R_prd == []:\n",
    "        return DC_DEF\n",
    "    C_prd = A_PRD*norm(t_cur, SIGMA_PRD).pdf(t)\n",
    "    C_exp = Seren(t, t_prev, t_cur)\n",
    "    C = C_prd+C_exp\n",
    "    if C<DC_MIN:\n",
    "        C = DC_MIN\n",
    "    return C\n",
    "    "
   ]
  },
  {
   "cell_type": "code",
   "execution_count": null,
   "metadata": {},
   "outputs": [],
   "source": []
  },
  {
   "cell_type": "code",
   "execution_count": 4,
   "metadata": {},
   "outputs": [
    {
     "data": {
      "text/html": [
       "<div>\n",
       "<style scoped>\n",
       "    .dataframe tbody tr th:only-of-type {\n",
       "        vertical-align: middle;\n",
       "    }\n",
       "\n",
       "    .dataframe tbody tr th {\n",
       "        vertical-align: top;\n",
       "    }\n",
       "\n",
       "    .dataframe thead th {\n",
       "        text-align: right;\n",
       "    }\n",
       "</style>\n",
       "<table border=\"1\" class=\"dataframe\">\n",
       "  <thead>\n",
       "    <tr style=\"text-align: right;\">\n",
       "      <th></th>\n",
       "      <th>timestamp</th>\n",
       "      <th>client</th>\n",
       "      <th>AP</th>\n",
       "      <th>sec</th>\n",
       "      <th>ID</th>\n",
       "    </tr>\n",
       "  </thead>\n",
       "  <tbody>\n",
       "    <tr>\n",
       "      <th>0</th>\n",
       "      <td>2014-01-01 00:00:24</td>\n",
       "      <td>b7f22f3abd9f367af65bd70b4b328e0c35f7cfac</td>\n",
       "      <td>Bldg11AP21</td>\n",
       "      <td>24</td>\n",
       "      <td>0</td>\n",
       "    </tr>\n",
       "    <tr>\n",
       "      <th>1</th>\n",
       "      <td>2014-01-01 00:00:30</td>\n",
       "      <td>336501aeaedff0462f3cd55089fa433dbbfff493</td>\n",
       "      <td>Bldg44AP3</td>\n",
       "      <td>30</td>\n",
       "      <td>1</td>\n",
       "    </tr>\n",
       "    <tr>\n",
       "      <th>2</th>\n",
       "      <td>2014-01-01 00:00:35</td>\n",
       "      <td>4b912f490ddc1f289f35def68a1662bcc5089a1a</td>\n",
       "      <td>Bldg48AP65</td>\n",
       "      <td>35</td>\n",
       "      <td>2</td>\n",
       "    </tr>\n",
       "    <tr>\n",
       "      <th>3</th>\n",
       "      <td>2014-01-01 00:00:40</td>\n",
       "      <td>8e10f9d5aa9c229baae2f745abd25b9c9522ed64</td>\n",
       "      <td>Bldg25AP19</td>\n",
       "      <td>40</td>\n",
       "      <td>3</td>\n",
       "    </tr>\n",
       "    <tr>\n",
       "      <th>4</th>\n",
       "      <td>2014-01-01 00:00:51</td>\n",
       "      <td>680fc4c2bd6b252fd6e1a67ad7aa69cdbd3d6e0f</td>\n",
       "      <td>Bldg25AP5</td>\n",
       "      <td>51</td>\n",
       "      <td>4</td>\n",
       "    </tr>\n",
       "    <tr>\n",
       "      <th>...</th>\n",
       "      <td>...</td>\n",
       "      <td>...</td>\n",
       "      <td>...</td>\n",
       "      <td>...</td>\n",
       "      <td>...</td>\n",
       "    </tr>\n",
       "    <tr>\n",
       "      <th>12724</th>\n",
       "      <td>2014-01-01 23:58:36</td>\n",
       "      <td>34a2fe9462c797cfc9916b7aa84bbe4a7b42327a</td>\n",
       "      <td>Bldg44AP15</td>\n",
       "      <td>86316</td>\n",
       "      <td>423</td>\n",
       "    </tr>\n",
       "    <tr>\n",
       "      <th>12725</th>\n",
       "      <td>2014-01-01 23:59:03</td>\n",
       "      <td>ec438383187d2fb4a00d4d7cd235494729d05198</td>\n",
       "      <td>Bldg44AP4</td>\n",
       "      <td>86343</td>\n",
       "      <td>42</td>\n",
       "    </tr>\n",
       "    <tr>\n",
       "      <th>12726</th>\n",
       "      <td>2014-01-01 23:59:14</td>\n",
       "      <td>2a9553acf404141b23ce2361d2d58e0ae7b72bb4</td>\n",
       "      <td>Bldg44AP64</td>\n",
       "      <td>86354</td>\n",
       "      <td>33</td>\n",
       "    </tr>\n",
       "    <tr>\n",
       "      <th>12727</th>\n",
       "      <td>2014-01-01 23:59:35</td>\n",
       "      <td>ca2a3933771ce90b5368dfdb95d1959f66fe0150</td>\n",
       "      <td>Bldg14AP12</td>\n",
       "      <td>86375</td>\n",
       "      <td>85</td>\n",
       "    </tr>\n",
       "    <tr>\n",
       "      <th>12728</th>\n",
       "      <td>2014-01-01 23:59:53</td>\n",
       "      <td>34a2fe9462c797cfc9916b7aa84bbe4a7b42327a</td>\n",
       "      <td>Bldg48AP41</td>\n",
       "      <td>86393</td>\n",
       "      <td>423</td>\n",
       "    </tr>\n",
       "  </tbody>\n",
       "</table>\n",
       "<p>12729 rows × 5 columns</p>\n",
       "</div>"
      ],
      "text/plain": [
       "                 timestamp                                    client  \\\n",
       "0      2014-01-01 00:00:24  b7f22f3abd9f367af65bd70b4b328e0c35f7cfac   \n",
       "1      2014-01-01 00:00:30  336501aeaedff0462f3cd55089fa433dbbfff493   \n",
       "2      2014-01-01 00:00:35  4b912f490ddc1f289f35def68a1662bcc5089a1a   \n",
       "3      2014-01-01 00:00:40  8e10f9d5aa9c229baae2f745abd25b9c9522ed64   \n",
       "4      2014-01-01 00:00:51  680fc4c2bd6b252fd6e1a67ad7aa69cdbd3d6e0f   \n",
       "...                    ...                                       ...   \n",
       "12724  2014-01-01 23:58:36  34a2fe9462c797cfc9916b7aa84bbe4a7b42327a   \n",
       "12725  2014-01-01 23:59:03  ec438383187d2fb4a00d4d7cd235494729d05198   \n",
       "12726  2014-01-01 23:59:14  2a9553acf404141b23ce2361d2d58e0ae7b72bb4   \n",
       "12727  2014-01-01 23:59:35  ca2a3933771ce90b5368dfdb95d1959f66fe0150   \n",
       "12728  2014-01-01 23:59:53  34a2fe9462c797cfc9916b7aa84bbe4a7b42327a   \n",
       "\n",
       "               AP    sec   ID  \n",
       "0      Bldg11AP21     24    0  \n",
       "1       Bldg44AP3     30    1  \n",
       "2      Bldg48AP65     35    2  \n",
       "3      Bldg25AP19     40    3  \n",
       "4       Bldg25AP5     51    4  \n",
       "...           ...    ...  ...  \n",
       "12724  Bldg44AP15  86316  423  \n",
       "12725   Bldg44AP4  86343   42  \n",
       "12726  Bldg44AP64  86354   33  \n",
       "12727  Bldg14AP12  86375   85  \n",
       "12728  Bldg48AP41  86393  423  \n",
       "\n",
       "[12729 rows x 5 columns]"
      ]
     },
     "execution_count": 4,
     "metadata": {},
     "output_type": "execute_result"
    }
   ],
   "source": []
  },
  {
   "cell_type": "code",
   "execution_count": null,
   "metadata": {},
   "outputs": [],
   "source": []
  }
 ],
 "metadata": {
  "kernelspec": {
   "display_name": "Python 3",
   "language": "python",
   "name": "python3"
  },
  "language_info": {
   "codemirror_mode": {
    "name": "ipython",
    "version": 3
   },
   "file_extension": ".py",
   "mimetype": "text/x-python",
   "name": "python",
   "nbconvert_exporter": "python",
   "pygments_lexer": "ipython3",
   "version": "3.7.4"
  }
 },
 "nbformat": 4,
 "nbformat_minor": 4
}
